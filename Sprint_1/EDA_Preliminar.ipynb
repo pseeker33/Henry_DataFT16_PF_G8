{
 "cells": [
  {
   "cell_type": "code",
   "execution_count": 1,
   "metadata": {},
   "outputs": [],
   "source": [
    "import json \n",
    "import pandas as pd\n",
    "import matplotlib.pyplot as plt\n",
    "import seaborn as sns"
   ]
  },
  {
   "cell_type": "code",
   "execution_count": 2,
   "metadata": {},
   "outputs": [],
   "source": [
    "data = []\n",
    "archivos=['./Maps/Sitios/1.json']\n",
    "for archivo in archivos:\n",
    "    with open(archivo, 'r') as file:\n",
    "        for line in file:\n",
    "                data.append(json.loads(line))\n",
    "df1 = pd.DataFrame(data)"
   ]
  },
  {
   "cell_type": "code",
   "execution_count": 3,
   "metadata": {},
   "outputs": [
    {
     "name": "stdout",
     "output_type": "stream",
     "text": [
      "<class 'pandas.core.frame.DataFrame'>\n",
      "RangeIndex: 275001 entries, 0 to 275000\n",
      "Data columns (total 15 columns):\n",
      " #   Column            Non-Null Count   Dtype  \n",
      "---  ------            --------------   -----  \n",
      " 0   name              274994 non-null  object \n",
      " 1   address           264939 non-null  object \n",
      " 2   gmap_id           275001 non-null  object \n",
      " 3   description       13155 non-null   object \n",
      " 4   latitude          275001 non-null  float64\n",
      " 5   longitude         275001 non-null  float64\n",
      " 6   category          272740 non-null  object \n",
      " 7   avg_rating        275001 non-null  float64\n",
      " 8   num_of_reviews    275001 non-null  int64  \n",
      " 9   price             13450 non-null   object \n",
      " 10  hours             192448 non-null  object \n",
      " 11  MISC              194972 non-null  object \n",
      " 12  state             195523 non-null  object \n",
      " 13  relative_results  238771 non-null  object \n",
      " 14  url               275001 non-null  object \n",
      "dtypes: float64(3), int64(1), object(11)\n",
      "memory usage: 31.5+ MB\n"
     ]
    }
   ],
   "source": [
    "df1.info()"
   ]
  },
  {
   "cell_type": "code",
   "execution_count": 4,
   "metadata": {},
   "outputs": [
    {
     "data": {
      "text/html": [
       "\n",
       "        <iframe\n",
       "            width=\"100%\"\n",
       "            height=\"475\"\n",
       "            src=\"http://Asus_Vivo:40000/dtale/iframe/1\"\n",
       "            frameborder=\"0\"\n",
       "            allowfullscreen\n",
       "            \n",
       "        ></iframe>\n",
       "        "
      ],
      "text/plain": [
       "<IPython.lib.display.IFrame at 0x1f317ec4ed0>"
      ]
     },
     "metadata": {},
     "output_type": "display_data"
    },
    {
     "data": {
      "text/plain": []
     },
     "execution_count": 4,
     "metadata": {},
     "output_type": "execute_result"
    }
   ],
   "source": [
    "import dtale\n",
    "\n",
    "# Inicia dtale y abre el navegador para explorar tus datos de forma interactiva\n",
    "dtale.show(df1)"
   ]
  }
 ],
 "metadata": {
  "kernelspec": {
   "display_name": "Python 3",
   "language": "python",
   "name": "python3"
  },
  "language_info": {
   "codemirror_mode": {
    "name": "ipython",
    "version": 3
   },
   "file_extension": ".py",
   "mimetype": "text/x-python",
   "name": "python",
   "nbconvert_exporter": "python",
   "pygments_lexer": "ipython3",
   "version": "3.11.6"
  }
 },
 "nbformat": 4,
 "nbformat_minor": 2
}
