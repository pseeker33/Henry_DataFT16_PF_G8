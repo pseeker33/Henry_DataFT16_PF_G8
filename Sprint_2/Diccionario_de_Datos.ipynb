{
 "cells": [
  {
   "attachments": {},
   "cell_type": "markdown",
   "metadata": {},
   "source": [
    "# Diccionario de datos"
   ]
  },
  {
   "attachments": {},
   "cell_type": "markdown",
   "metadata": {},
   "source": [
    "**Este archivo ofrece una descripción detallada de los datos utilizados en el proyecto de Google y de Yelp. Su utilidad radica en promover una comprensión común y precisa de los datos, facilitando así una colaboración más efectiva y la toma de decisiones informadas en el proyecto.**"
   ]
  },
  {
   "cell_type": "markdown",
   "metadata": {},
   "source": [
    "### Google"
   ]
  },
  {
   "cell_type": "markdown",
   "metadata": {},
   "source": [
    "| Nombre de df    | Atributo                 | Descripción                                                                                       |\n",
    "|-----------------|--------------------------|---------------------------------------------------------------------------------------------------|\n",
    "| Restaurant      | Name                     | Nombre del restaurante                                                                            |\n",
    "| Restaurant      | Address                  | Dirección del restaurante                                                                         |\n",
    "| Restaurant      | Gmap_id                  | Id único del restaurante                                                                          |\n",
    "| Restaurant      | Latitude                 | Latitud                                                                                           |\n",
    "| Restaurant      | Longitude                | Longitud                                                                                          |\n",
    "| Restaurant      | Category                 | Categoría a la que pertenece                                                                      |\n",
    "| Restaurant      | Avg_rating               | Rating promedio del restaurante                                                                   |\n",
    "| Restaurant      | Num_of_review            | Número de reseñas del restaurante que posee                                                       |\n",
    "| Restaurant      | MISC                     | Atributos                                                                                         |\n",
    "| Restaurant      | url                      | URL del restaurante en Google Maps                                                                |\n",
    "| Restaurant      | State                    | Estado donde se encuentra                                                                         |\n",
    "| Restaurant      | Code                     | Codigo del estado                                                                                 |\n",
    "| Reviews         | User_id                  | Id único del usuario                                                                              |\n",
    "| Reviews         | Name                     | Nombre del usuario                                                                                |\n",
    "| Reviews         | Time                     | Fecha en que se realizó la reseña                                                                 |\n",
    "| Reviews         | Rating                   | Puntaje del usuario al restaurante                                                                |\n",
    "| Reviews         | Text                     | Reseña del usuario                                                                                |\n",
    "| Reviews         | Resp                     | Respuesta a la reseña                                                                             |\n",
    "| Reviews         | Gmap_id                  | Id único del restaurante al que se le hace la reseña                                              |\n",
    "| Reviews         | Sentimineto_polaridad    | Interpretación del tono o dirección de la reseña                                                  |\n",
    "| Reviews         | Sentimineto_subjetividad | Indica la objetividad o subjetividad de la reseña                                                 |"
   ]
  },
  {
   "cell_type": "markdown",
   "metadata": {},
   "source": [
    "### Yelp"
   ]
  },
  {
   "attachments": {},
   "cell_type": "markdown",
   "metadata": {},
   "source": [
    "| Nombre de df    | Atributo             | Descripción                                                                                       |\n",
    "|-----------------|----------------------|---------------------------------------------------------------------------------------------------|\n",
    "| Business        | Business_id          | Id único del restaurante                                                                          |\n",
    "| Business        | Name                 | Nombre del restaurante                                                                            |\n",
    "| Business        | Address              | Dirección del restaurante                                                                         |\n",
    "| Business        | State                | Estado donde se encuentra                                                                         |\n",
    "| Business        | Latitude             | Latitud                                                                                           |\n",
    "| Business        | Longitude            | Longitud                                                                                          |\n",
    "| Business        | Stars                | Estrellas promedio obtenidas                                                                      |\n",
    "| Business        | Review_count         | Número de reviews que posee                                                                       |\n",
    "| Business        | Categories           | Categorias a la que pertenece el restaurante                                                      |\n",
    "| User            | User_id              | Id único del usuario                                                                              |\n",
    "| User            | Name                 | Nombre del usuario                                                                                |\n",
    "| User            | Review_count         | Total de reviews publicadas                                                                       |\n",
    "| User            | Yelping_since        | Fecha en la que se unió a Yelp                                                                    |\n",
    "| User            | Average_stars        | Puntuación promedio entregada                                                                     |\n",
    "| Reviews         | Review_id            | Id único de reseña                                                                                |\n",
    "| Reviews         | User_id              | Id del usuario que realizó la reseña                                                              |\n",
    "| Reviews         | Business_id          | ID único del negocio                                                                              |\n",
    "| Reviews         | Stars                | Estrellas otorgadas por el usuario                                                                |\n",
    "| Reviews         | Text                 | Reseña del usuario                                                                                |\n",
    "| Reviews         | Date                 | Fecha en que se realizó la reseña                                                                 |\n"
   ]
  }
 ],
 "metadata": {
  "kernelspec": {
   "display_name": "Python 3",
   "language": "python",
   "name": "python3"
  },
  "language_info": {
   "name": "python",
   "version": "3.9.13"
  },
  "orig_nbformat": 4
 },
 "nbformat": 4,
 "nbformat_minor": 2
}
