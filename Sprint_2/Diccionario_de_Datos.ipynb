{
 "cells": [
  {
   "attachments": {},
   "cell_type": "markdown",
   "metadata": {},
   "source": [
    "# Diccionario de datos"
   ]
  },
  {
   "attachments": {},
   "cell_type": "markdown",
   "metadata": {},
   "source": [
    "**Este archivo ofrece una descripción detallada de los datos utilizados en el proyecto de Google y de Yelp. Su utilidad radica en promover una comprensión común y precisa de los datos, facilitando así una colaboración más efectiva y la toma de decisiones informadas en el proyecto.**"
   ]
  },
  {
   "cell_type": "markdown",
   "metadata": {},
   "source": [
    "### Google"
   ]
  },
  {
   "cell_type": "markdown",
   "metadata": {},
   "source": [
    "| Tabla           | Atributo                 | Descripción                                                                                       |\n",
    "|-----------------|--------------------------|---------------------------------------------------------------------------------------------------|\n",
    "| Restaurantes    | Nombre                   | Nombre del restaurante                                                                            |\n",
    "| Restaurantes    | Direccion                | Dirección del restaurante                                                                         |\n",
    "| Restaurantes    | Ciudad                   | Ciudad donde se encuentra el restaurante                                                          |\n",
    "| Restaurantes    | Estado                   | Estado donde al que pertenece la ciudad                                                           |\n",
    "| Restaurantes    | Rating                   | Rating promedio del restaurante                                                                   |\n",
    "| Restaurantes    | Categoria                | Categoría a la que pertenece el restaurante                                                       |\n",
    "| Restaurantes    | Place_id                 | Id único del restaurante                                                                          |\n",
    "| Restaurantes    | Num_reviews              | Número de reseñas totales que posee el restaurante                                                |\n",
    "| Restaurantes    | Precio                   | Indicador de que tan caro o no es el restaurante                                                  |\n",
    "| Restaurantes    | Load_timestamp           | Fecha de carga                                                                                    |\n",
    "| Reviews         | Autor                    | Nombre del usuario                                                                                |\n",
    "| Reviews         | Rating                   | Puntaje del usuario al restaurante                                                                |\n",
    "| Reviews         | Texto                    | Reseña del usuario                                                                                |\n",
    "| Reviews         | Fecha                    | Fecha en que se realizó la reseña                                                                 |\n",
    "| Reviews         | Place_id                 | Id único del restaurante al que se le hace la reseña                                              |"
   ]
  },
  {
   "cell_type": "markdown",
   "metadata": {},
   "source": [
    "### Yelp"
   ]
  },
  {
   "attachments": {},
   "cell_type": "markdown",
   "metadata": {},
   "source": [
    "| Nombre de df    | Atributo             | Descripción                                                                                   |\n",
    "|-----------------|----------------------|---------------------------------------------------------------------------------------------------|\n",
    "| Business        | Business_id          | Id único del restaurante                                                                          |\n",
    "| Business        | Name                 | Nombre del restaurante                                                                            |\n",
    "| Business        | Address              | Dirección del restaurante                                                                         |\n",
    "| Business        | City                 | Ciudad donde se encuentra                                                                         |\n",
    "| Business        | State                | Estado donde se encuentra                                                                         |\n",
    "| Business        | Latitude             | Latitud                                                                                           |\n",
    "| Business        | Longitude            | Longitud                                                                                          |\n",
    "| Business        | Stars                | Estrellas promedio obtenidas                                                                      |\n",
    "| Business        | Review_count         | Número de reviews que posee                                                                       |\n",
    "| Business        | Categories           | Categorias a la que pertenece el restaurante                                                      |\n",
    "| Business        | Load_tomestamp       | Fecha de carga                                                                                    |\n",
    "| User            | User_id              | Id único del usuario                                                                              |\n",
    "| User            | Name                 | Nombre del usuario                                                                                |\n",
    "| User            | Review_count         | Total de reviews publicadas                                                                       |\n",
    "| User            | Average_stars        | Puntuación promedio entregada                                                                     |\n",
    "| User            | Load_tomestamp       | Fecha de carga                                                                                    |\n",
    "| Reviews         | Review_id            | Id único de reseña                                                                                |\n",
    "| Reviews         | Business_id          | ID único del negocio                                                                              |\n",
    "| Reviews         | User_id              | Id del usuario que realizó la reseña                                                              |\n",
    "| Reviews         | Stars                | Estrellas otorgadas por el usuario                                                                |\n",
    "| Reviews         | Text                 | Reseña del usuario                                                                                |\n",
    "| Reviews         | Date                 | Fecha en que se realizó la reseña                                                                 |\n",
    "| Reviews         | Load_timestamp       | Fecha de carga                                                                                    |\n"
   ]
  }
 ],
 "metadata": {
  "kernelspec": {
   "display_name": "Python 3",
   "language": "python",
   "name": "python3"
  },
  "language_info": {
   "name": "python",
   "version": "3.9.13"
  },
  "orig_nbformat": 4
 },
 "nbformat": 4,
 "nbformat_minor": 2
}
