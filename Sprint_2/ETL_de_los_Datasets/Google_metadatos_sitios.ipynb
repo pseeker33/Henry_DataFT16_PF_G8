{
 "cells": [
  {
   "cell_type": "markdown",
   "metadata": {},
   "source": [
    "### Se desarrolla el ETL de los datasets de restaurantes de Google"
   ]
  },
  {
   "cell_type": "markdown",
   "metadata": {},
   "source": [
    "### Importacion de Librerias"
   ]
  },
  {
   "cell_type": "markdown",
   "metadata": {},
   "source": [
    "Se importan las librerias que necesitaremos"
   ]
  },
  {
   "cell_type": "code",
   "execution_count": 1,
   "metadata": {},
   "outputs": [],
   "source": [
    "import json \n",
    "import pandas as pd\n",
    "import matplotlib.pyplot as plt\n",
    "import seaborn as sns"
   ]
  },
  {
   "cell_type": "markdown",
   "metadata": {},
   "source": [
    "### Creacion de los dataframes"
   ]
  },
  {
   "cell_type": "code",
   "execution_count": 2,
   "metadata": {},
   "outputs": [],
   "source": [
    "data = []\n",
    "archivos=['./Maps/Sitios/1.json']\n",
    "for archivo in archivos:\n",
    "    with open(archivo, 'r') as file:\n",
    "        for line in file:\n",
    "                data.append(json.loads(line))\n",
    "df1 = pd.DataFrame(data)"
   ]
  },
  {
   "cell_type": "code",
   "execution_count": 3,
   "metadata": {},
   "outputs": [],
   "source": [
    "data = []\n",
    "archivos=['./Maps/Sitios/2.json','./Maps/Sitios/3.json']\n",
    "for archivo in archivos:\n",
    "    with open(archivo, 'r') as file:\n",
    "        for line in file:\n",
    "                data.append(json.loads(line))\n",
    "df2 = pd.DataFrame(data)"
   ]
  },
  {
   "cell_type": "code",
   "execution_count": 4,
   "metadata": {},
   "outputs": [],
   "source": [
    "data = []\n",
    "archivos=['./Maps/Sitios/3.json']\n",
    "for archivo in archivos:\n",
    "    with open(archivo, 'r') as file:\n",
    "        for line in file:\n",
    "                data.append(json.loads(line))\n",
    "df3 = pd.DataFrame(data)"
   ]
  },
  {
   "cell_type": "code",
   "execution_count": 5,
   "metadata": {},
   "outputs": [],
   "source": [
    "data = []\n",
    "archivos=['./Maps/Sitios/4.json']\n",
    "for archivo in archivos:\n",
    "    with open(archivo, 'r') as file:\n",
    "        for line in file:\n",
    "                data.append(json.loads(line))\n",
    "df4= pd.DataFrame(data)"
   ]
  },
  {
   "cell_type": "code",
   "execution_count": 6,
   "metadata": {},
   "outputs": [],
   "source": [
    "data = []\n",
    "archivos=['./Maps/Sitios/5.json']\n",
    "for archivo in archivos:\n",
    "    with open(archivo, 'r') as file:\n",
    "        for line in file:\n",
    "                data.append(json.loads(line))\n",
    "df5 = pd.DataFrame(data)"
   ]
  },
  {
   "cell_type": "code",
   "execution_count": 7,
   "metadata": {},
   "outputs": [],
   "source": [
    "data = []\n",
    "archivos=['./Maps/Sitios/6.json']\n",
    "for archivo in archivos:\n",
    "    with open(archivo, 'r') as file:\n",
    "        for line in file:\n",
    "                data.append(json.loads(line))\n",
    "df6 = pd.DataFrame(data)"
   ]
  },
  {
   "cell_type": "code",
   "execution_count": 8,
   "metadata": {},
   "outputs": [],
   "source": [
    "data = []\n",
    "archivos=['./Maps/Sitios/7.json']\n",
    "for archivo in archivos:\n",
    "    with open(archivo, 'r') as file:\n",
    "        for line in file:\n",
    "                data.append(json.loads(line))\n",
    "df7 = pd.DataFrame(data)"
   ]
  },
  {
   "cell_type": "code",
   "execution_count": 9,
   "metadata": {},
   "outputs": [],
   "source": [
    "data = []\n",
    "archivos=['./Maps/Sitios/8.json']\n",
    "for archivo in archivos:\n",
    "    with open(archivo, 'r') as file:\n",
    "        for line in file:\n",
    "                data.append(json.loads(line))\n",
    "df8 = pd.DataFrame(data)"
   ]
  },
  {
   "cell_type": "code",
   "execution_count": 10,
   "metadata": {},
   "outputs": [],
   "source": [
    "data = []\n",
    "archivos=['./Maps/Sitios/9.json']\n",
    "for archivo in archivos:\n",
    "    with open(archivo, 'r') as file:\n",
    "        for line in file:\n",
    "                data.append(json.loads(line))\n",
    "df9 = pd.DataFrame(data)"
   ]
  },
  {
   "cell_type": "code",
   "execution_count": 11,
   "metadata": {},
   "outputs": [],
   "source": [
    "data = []\n",
    "archivos=['./Maps/Sitios/10.json']\n",
    "for archivo in archivos:\n",
    "    with open(archivo, 'r') as file:\n",
    "        for line in file:\n",
    "                data.append(json.loads(line))\n",
    "df10 = pd.DataFrame(data)"
   ]
  },
  {
   "cell_type": "code",
   "execution_count": 12,
   "metadata": {},
   "outputs": [],
   "source": [
    "data = []\n",
    "archivos=['./Maps/Sitios/11.json']\n",
    "for archivo in archivos:\n",
    "    with open(archivo, 'r') as file:\n",
    "        for line in file:\n",
    "                data.append(json.loads(line))\n",
    "df11 = pd.DataFrame(data)"
   ]
  },
  {
   "cell_type": "markdown",
   "metadata": {},
   "source": [
    "### Tratamiento de los Datos"
   ]
  },
  {
   "cell_type": "markdown",
   "metadata": {},
   "source": [
    "Observamos las columnas que posee un dataframe"
   ]
  },
  {
   "cell_type": "code",
   "execution_count": 13,
   "metadata": {},
   "outputs": [
    {
     "name": "stdout",
     "output_type": "stream",
     "text": [
      "<class 'pandas.core.frame.DataFrame'>\n",
      "RangeIndex: 275001 entries, 0 to 275000\n",
      "Data columns (total 15 columns):\n",
      " #   Column            Non-Null Count   Dtype  \n",
      "---  ------            --------------   -----  \n",
      " 0   name              274994 non-null  object \n",
      " 1   address           264939 non-null  object \n",
      " 2   gmap_id           275001 non-null  object \n",
      " 3   description       13155 non-null   object \n",
      " 4   latitude          275001 non-null  float64\n",
      " 5   longitude         275001 non-null  float64\n",
      " 6   category          272740 non-null  object \n",
      " 7   avg_rating        275001 non-null  float64\n",
      " 8   num_of_reviews    275001 non-null  int64  \n",
      " 9   price             13450 non-null   object \n",
      " 10  hours             192448 non-null  object \n",
      " 11  MISC              194972 non-null  object \n",
      " 12  state             195523 non-null  object \n",
      " 13  relative_results  238771 non-null  object \n",
      " 14  url               275001 non-null  object \n",
      "dtypes: float64(3), int64(1), object(11)\n",
      "memory usage: 31.5+ MB\n"
     ]
    }
   ],
   "source": [
    "df1.info()"
   ]
  },
  {
   "cell_type": "code",
   "execution_count": 14,
   "metadata": {},
   "outputs": [],
   "source": [
    "# Eliminamos columnas inncesarias\n",
    "columnas=['description','state','relative_results','price','hours']\n",
    "df1 = df1.drop(columnas,axis=1)\n",
    "df2 = df2.drop(columnas,axis=1)\n",
    "df3 = df3.drop(columnas,axis=1)\n",
    "df4 = df4.drop(columnas,axis=1)\n",
    "df5 = df5.drop(columnas,axis=1)\n",
    "df6 = df6.drop(columnas,axis=1)\n",
    "df7 = df7.drop(columnas,axis=1)\n",
    "df8 = df8.drop(columnas,axis=1)\n",
    "df9 = df9.drop(columnas,axis=1)\n",
    "df10 = df10.drop(columnas,axis=1)\n",
    "df11 = df11.drop(columnas,axis=1)"
   ]
  },
  {
   "cell_type": "code",
   "execution_count": 15,
   "metadata": {},
   "outputs": [],
   "source": [
    "# Eliminamos las filas que poseen nulos en nuestros datos relevantes\n",
    "columnas=['name','category','address']\n",
    "df1 = df1.dropna(subset=columnas).reset_index(drop=True)\n",
    "df2 = df2.dropna(subset=columnas).reset_index(drop=True)\n",
    "df3 = df3.dropna(subset=columnas).reset_index(drop=True)\n",
    "df4 = df4.dropna(subset=columnas).reset_index(drop=True)\n",
    "df5 = df5.dropna(subset=columnas).reset_index(drop=True)\n",
    "df6 = df6.dropna(subset=columnas).reset_index(drop=True)\n",
    "df7 = df7.dropna(subset=columnas).reset_index(drop=True)\n",
    "df8 = df8.dropna(subset=columnas).reset_index(drop=True)\n",
    "df9 = df9.dropna(subset=columnas).reset_index(drop=True)\n",
    "df10 = df10.dropna(subset=columnas).reset_index(drop=True)\n",
    "df11 = df11.dropna(subset=columnas).reset_index(drop=True)"
   ]
  },
  {
   "cell_type": "markdown",
   "metadata": {},
   "source": [
    "Se seleccionan algunas palabras relacionadas con ocio para realizar un primer filtro"
   ]
  },
  {
   "cell_type": "code",
   "execution_count": 16,
   "metadata": {},
   "outputs": [],
   "source": [
    "# Añadimos las palabras elegidas a una lista y la filtramos desde el dataframe\n",
    "palabras_clave = ['restaurant', 'cocktail','swimming','gym','fitness','diner','spa','campground','coffee','dance','music','game','movie','fish','hotel','museum','gallery','golf','club','nature','sports']\n",
    "df_filtrado1 = df1[df1['category'].apply(lambda x: any(palabra in s.lower() for s in x for palabra in palabras_clave))].reset_index(drop=True)"
   ]
  },
  {
   "cell_type": "code",
   "execution_count": 17,
   "metadata": {},
   "outputs": [],
   "source": [
    "df_filtrado2 = df2[df2['category'].apply(lambda x: any(palabra in s.lower() for s in x for palabra in palabras_clave))].reset_index(drop=True)"
   ]
  },
  {
   "cell_type": "code",
   "execution_count": 18,
   "metadata": {},
   "outputs": [],
   "source": [
    "df_filtrado3 = df3[df3['category'].apply(lambda x: any(palabra in s.lower() for s in x for palabra in palabras_clave))].reset_index(drop=True)"
   ]
  },
  {
   "cell_type": "code",
   "execution_count": 19,
   "metadata": {},
   "outputs": [],
   "source": [
    "df_filtrado4 = df4[df4['category'].apply(lambda x: any(palabra in s.lower() for s in x for palabra in palabras_clave))].reset_index(drop=True)"
   ]
  },
  {
   "cell_type": "code",
   "execution_count": 20,
   "metadata": {},
   "outputs": [],
   "source": [
    "df_filtrado5 = df5[df5['category'].apply(lambda x: any(palabra in s.lower() for s in x for palabra in palabras_clave))].reset_index(drop=True)"
   ]
  },
  {
   "cell_type": "code",
   "execution_count": 21,
   "metadata": {},
   "outputs": [],
   "source": [
    "df_filtrado6 = df6[df6['category'].apply(lambda x: any(palabra in s.lower() for s in x for palabra in palabras_clave))].reset_index(drop=True)"
   ]
  },
  {
   "cell_type": "code",
   "execution_count": 22,
   "metadata": {},
   "outputs": [],
   "source": [
    "df_filtrado7 = df7[df7['category'].apply(lambda x: any(palabra in s.lower() for s in x for palabra in palabras_clave))].reset_index(drop=True)"
   ]
  },
  {
   "cell_type": "code",
   "execution_count": 23,
   "metadata": {},
   "outputs": [],
   "source": [
    "df_filtrado8 = df8[df8['category'].apply(lambda x: any(palabra in s.lower() for s in x for palabra in palabras_clave))].reset_index(drop=True)"
   ]
  },
  {
   "cell_type": "code",
   "execution_count": 24,
   "metadata": {},
   "outputs": [],
   "source": [
    "df_filtrado9 = df9[df9['category'].apply(lambda x: any(palabra in s.lower() for s in x for palabra in palabras_clave))].reset_index(drop=True)"
   ]
  },
  {
   "cell_type": "code",
   "execution_count": 25,
   "metadata": {},
   "outputs": [],
   "source": [
    "df_filtrado10 = df10[df10['category'].apply(lambda x: any(palabra in s.lower() for s in x for palabra in palabras_clave))].reset_index(drop=True)"
   ]
  },
  {
   "cell_type": "code",
   "execution_count": 26,
   "metadata": {},
   "outputs": [],
   "source": [
    "df_filtrado11 = df11[df11['category'].apply(lambda x: any(palabra in s.lower() for s in x for palabra in palabras_clave))].reset_index(drop=True)"
   ]
  },
  {
   "cell_type": "markdown",
   "metadata": {},
   "source": [
    "Se unen todos los dataframes para crear un dataframe final"
   ]
  },
  {
   "cell_type": "code",
   "execution_count": 27,
   "metadata": {},
   "outputs": [],
   "source": [
    "df_concat1 = pd.concat([df_filtrado1,df_filtrado2])\n",
    "df_concat1 = df_concat1.drop_duplicates(subset='gmap_id')\n",
    "df_concat2 = pd.concat([df_concat1,df_filtrado3])\n",
    "df_concat2 = df_concat2.drop_duplicates(subset='gmap_id')\n",
    "df_concat3 = pd.concat([df_concat2,df_filtrado4])\n",
    "df_concat3 = df_concat3.drop_duplicates(subset='gmap_id')\n",
    "df_concat4 = pd.concat([df_concat3,df_filtrado5])\n",
    "df_concat4 = df_concat4.drop_duplicates(subset='gmap_id')\n",
    "df_concat5 = pd.concat([df_concat4,df_filtrado6])\n",
    "df_concat5 = df_concat5.drop_duplicates(subset='gmap_id')\n",
    "df_concat6 = pd.concat([df_concat5,df_filtrado7])\n",
    "df_concat6 = df_concat6.drop_duplicates(subset='gmap_id')\n",
    "df_concat7 = pd.concat([df_concat6,df_filtrado8])\n",
    "df_concat7 = df_concat7.drop_duplicates(subset='gmap_id')\n",
    "df_concat8 = pd.concat([df_concat7,df_filtrado9])\n",
    "df_concat8 = df_concat8.drop_duplicates(subset='gmap_id')\n",
    "df_concat9 = pd.concat([df_concat8,df_filtrado10])\n",
    "df_concat9 = df_concat9.drop_duplicates(subset='gmap_id')\n",
    "df = pd.concat([df_concat9,df_filtrado11])\n",
    "df = df.drop_duplicates(subset='gmap_id').reset_index(drop=True)"
   ]
  },
  {
   "cell_type": "code",
   "execution_count": 28,
   "metadata": {},
   "outputs": [],
   "source": [
    "# Se estandariza la columna \"category\"\n",
    "df['category'] = df['category'].apply(lambda lista: [palabra.title() for palabra in lista])"
   ]
  },
  {
   "cell_type": "markdown",
   "metadata": {},
   "source": [
    "Elejimos palabras clave para empezar a segmentar los datos con los que se trabajará"
   ]
  },
  {
   "cell_type": "code",
   "execution_count": 4,
   "metadata": {},
   "outputs": [],
   "source": [
    "ocio=['Restaurant','Spa','Gym','Nature','Hotel','Museum','Gallery','Sports','Music','Movie']"
   ]
  },
  {
   "cell_type": "markdown",
   "metadata": {},
   "source": [
    "Iniciamos viendo la cantidad de veces que se repiten cada una dentro de las listas de \"category\""
   ]
  },
  {
   "cell_type": "code",
   "execution_count": 5,
   "metadata": {},
   "outputs": [
    {
     "name": "stdout",
     "output_type": "stream",
     "text": [
      "Restaurant: 209900 veces\n",
      "Spa: 33122 veces\n",
      "Gym: 24431 veces\n",
      "Nature: 3117 veces\n",
      "Hotel: 7610 veces\n",
      "Museum: 8901 veces\n",
      "Gallery: 8548 veces\n",
      "Sports: 26875 veces\n",
      "Music: 10224 veces\n",
      "Movie: 7120 veces\n"
     ]
    }
   ],
   "source": [
    "# Inicializar un diccionario para contar cada palabra\n",
    "conteo_palabras = {palabra: 0 for palabra in ocio}\n",
    "# Contar la frecuencia de cada palabra en todas las listas\n",
    "for palabra in ocio:\n",
    "    conteo_ocurrencias = df['category'].apply(lambda lista: palabra in ' '.join(lista)).sum()\n",
    "    conteo_palabras[palabra] = conteo_ocurrencias\n",
    "# Mostrar el resultado\n",
    "for palabra, conteo in conteo_palabras.items():\n",
    "    print(f\"{palabra}: {conteo} veces\")"
   ]
  },
  {
   "cell_type": "code",
   "execution_count": 6,
   "metadata": {},
   "outputs": [
    {
     "name": "stderr",
     "output_type": "stream",
     "text": [
      "C:\\Users\\magsn\\AppData\\Local\\Packages\\PythonSoftwareFoundation.Python.3.11_qbz5n2kfra8p0\\LocalCache\\local-packages\\Python311\\site-packages\\seaborn\\_oldcore.py:1498: FutureWarning: is_categorical_dtype is deprecated and will be removed in a future version. Use isinstance(dtype, CategoricalDtype) instead\n",
      "  if pd.api.types.is_categorical_dtype(vector):\n",
      "C:\\Users\\magsn\\AppData\\Local\\Packages\\PythonSoftwareFoundation.Python.3.11_qbz5n2kfra8p0\\LocalCache\\local-packages\\Python311\\site-packages\\seaborn\\_oldcore.py:1498: FutureWarning: is_categorical_dtype is deprecated and will be removed in a future version. Use isinstance(dtype, CategoricalDtype) instead\n",
      "  if pd.api.types.is_categorical_dtype(vector):\n",
      "C:\\Users\\magsn\\AppData\\Local\\Packages\\PythonSoftwareFoundation.Python.3.11_qbz5n2kfra8p0\\LocalCache\\local-packages\\Python311\\site-packages\\seaborn\\_oldcore.py:1498: FutureWarning: is_categorical_dtype is deprecated and will be removed in a future version. Use isinstance(dtype, CategoricalDtype) instead\n",
      "  if pd.api.types.is_categorical_dtype(vector):\n"
     ]
    },
    {
     "data": {
      "image/png": "[encoded data removed]",
      "text/plain": [
       "<Figure size 1200x800 with 1 Axes>"
      ]
     },
     "metadata": {},
     "output_type": "display_data"
    }
   ],
   "source": [
    "# Inicializar un diccionario para contar cada palabra\n",
    "conteo_palabras = {palabra: 0 for palabra in ocio}\n",
    "\n",
    "# Contar la frecuencia de cada palabra en todas las listas\n",
    "for palabra in ocio:\n",
    "    conteo_ocurrencias = df['category'].apply(lambda lista: palabra in ' '.join(lista)).sum()\n",
    "    conteo_palabras[palabra] = conteo_ocurrencias\n",
    "\n",
    "# Convertir el diccionario a un DataFrame\n",
    "df_conteo = pd.DataFrame(list(conteo_palabras.items()), columns=['Palabra', 'Frecuencia'])\n",
    "\n",
    "# Ordenar los valores en forma decreciente\n",
    "df_conteo = df_conteo.sort_values(by='Frecuencia', ascending=False)\n",
    "\n",
    "# Tamaño personalizado de la figura\n",
    "plt.figure(figsize=(12, 8))\n",
    "\n",
    "# Graficar con seaborn\n",
    "sns.barplot(x='Palabra', y='Frecuencia', data=df_conteo, palette='viridis')\n",
    "plt.xlabel('Palabra')\n",
    "plt.xticks(rotation='horizontal')\n",
    "plt.ylabel('Frecuencia')\n",
    "plt.title('Frecuencia de Palabras en \"Categoria\"')\n",
    "\n",
    "# Mostrar la cantidad de veces que se repiten cada palabra en la gráfica\n",
    "for index, value in enumerate(df_conteo['Frecuencia']):\n",
    "    plt.text(index, value + 0.1, str(value), ha='center', va='bottom')\n",
    "\n",
    "# Ajuste adicional para evitar recortes\n",
    "plt.tight_layout()\n",
    "\n",
    "# Guardar la imagen como JPG\n",
    "plt.savefig('grafico_ocio.jpg')\n",
    "\n",
    "# Mostrar el gráfico\n",
    "plt.show()"
   ]
  },
  {
   "cell_type": "markdown",
   "metadata": {},
   "source": [
    "Analizaremos la cantidad de reviews que posee cada rubro"
   ]
  },
  {
   "cell_type": "code",
   "execution_count": 7,
   "metadata": {},
   "outputs": [
    {
     "name": "stdout",
     "output_type": "stream",
     "text": [
      "Restaurant: 23753696 revisiones\n",
      "Spa: 1855252 revisiones\n",
      "Gym: 1106882 revisiones\n",
      "Nature: 112518 revisiones\n",
      "Hotel: 268695 revisiones\n",
      "Museum: 467144 revisiones\n",
      "Gallery: 213204 revisiones\n",
      "Sports: 1990580 revisiones\n",
      "Music: 950092 revisiones\n",
      "Movie: 476780 revisiones\n"
     ]
    }
   ],
   "source": [
    "# Inicializar un diccionario para almacenar la cantidad total de revisiones por palabra\n",
    "total_reviews_por_palabra = {palabra: 0 for palabra in ocio}\n",
    "\n",
    "# Iterar sobre cada palabra y sumar las revisiones correspondientes\n",
    "for palabra in ocio:\n",
    "    df[palabra] = df['category'].apply(lambda lista: palabra in ' '.join(lista))\n",
    "    total_reviews_por_palabra[palabra] = df[df[palabra]]['num_of_reviews'].sum()\n",
    "\n",
    "# Mostrar los resultados\n",
    "for palabra, total_reviews in total_reviews_por_palabra.items():\n",
    "    print(f\"{palabra}: {total_reviews} revisiones\")"
   ]
  },
  {
   "cell_type": "code",
   "execution_count": 8,
   "metadata": {},
   "outputs": [
    {
     "name": "stderr",
     "output_type": "stream",
     "text": [
      "C:\\Users\\magsn\\AppData\\Local\\Packages\\PythonSoftwareFoundation.Python.3.11_qbz5n2kfra8p0\\LocalCache\\local-packages\\Python311\\site-packages\\seaborn\\_oldcore.py:1498: FutureWarning: is_categorical_dtype is deprecated and will be removed in a future version. Use isinstance(dtype, CategoricalDtype) instead\n",
      "  if pd.api.types.is_categorical_dtype(vector):\n",
      "C:\\Users\\magsn\\AppData\\Local\\Packages\\PythonSoftwareFoundation.Python.3.11_qbz5n2kfra8p0\\LocalCache\\local-packages\\Python311\\site-packages\\seaborn\\_oldcore.py:1498: FutureWarning: is_categorical_dtype is deprecated and will be removed in a future version. Use isinstance(dtype, CategoricalDtype) instead\n",
      "  if pd.api.types.is_categorical_dtype(vector):\n",
      "C:\\Users\\magsn\\AppData\\Local\\Packages\\PythonSoftwareFoundation.Python.3.11_qbz5n2kfra8p0\\LocalCache\\local-packages\\Python311\\site-packages\\seaborn\\_oldcore.py:1498: FutureWarning: is_categorical_dtype is deprecated and will be removed in a future version. Use isinstance(dtype, CategoricalDtype) instead\n",
      "  if pd.api.types.is_categorical_dtype(vector):\n"
     ]
    },
    {
     "data": {
      "image/png": "[encoded data removed]",
      "text/plain": [
       "<Figure size 1200x800 with 1 Axes>"
      ]
     },
     "metadata": {},
     "output_type": "display_data"
    }
   ],
   "source": [
    "# Inicializar un diccionario para almacenar la cantidad total de revisiones por palabra\n",
    "total_reviews_por_palabra = {palabra: 0 for palabra in ocio}\n",
    "\n",
    "# Iterar sobre cada palabra y sumar las revisiones correspondientes\n",
    "for palabra in ocio:\n",
    "    df[palabra] = df['category'].apply(lambda lista: palabra in ' '.join(lista))\n",
    "    total_reviews_por_palabra[palabra] = df[df[palabra]]['num_of_reviews'].sum()\n",
    "\n",
    "# Convertir el diccionario a un DataFrame\n",
    "df_conteo = pd.DataFrame(list(total_reviews_por_palabra.items()), columns=['Palabra', 'Total_Reviews'])\n",
    "\n",
    "# Ordenar los valores en forma decreciente\n",
    "df_conteo = df_conteo.sort_values(by='Total_Reviews', ascending=False)\n",
    "\n",
    "# Tamaño personalizado de la figura\n",
    "plt.figure(figsize=(12, 8))\n",
    "\n",
    "# Graficar con seaborn\n",
    "sns.barplot(x='Palabra', y='Total_Reviews', data=df_conteo, palette='viridis')\n",
    "plt.xlabel('Palabra')\n",
    "plt.xticks(rotation='horizontal')\n",
    "plt.ylabel('Total de Reviews')\n",
    "plt.title('Total de Reviews por Palabra en \"Categoria\"')\n",
    "\n",
    "# Mostrar la cantidad total de revisiones en la gráfica\n",
    "for index, value in enumerate(df_conteo['Total_Reviews']):\n",
    "    plt.text(index, value + 0.1, str(value), ha='center', va='bottom')\n",
    "\n",
    "# Ajuste adicional para evitar recortes\n",
    "plt.tight_layout()\n",
    "\n",
    "# Guardar la imagen como JPG\n",
    "plt.savefig('grafico_ocio_reviews.jpg')\n",
    "\n",
    "# Mostrar el gráfico\n",
    "plt.show()"
   ]
  },
  {
   "cell_type": "markdown",
   "metadata": {},
   "source": [
    "Se observa que que la categoría \"Restaurant\" es de la que mayor cantidad de datos y reviews se posee.           \n",
    "Es por ello que se filtrará un nuevo dataframe pero solo con dicha categoria para un posterior análisis."
   ]
  },
  {
   "cell_type": "code",
   "execution_count": 9,
   "metadata": {},
   "outputs": [
    {
     "data": {
      "text/html": [
       "<div>\n",
       "<style scoped>\n",
       "    .dataframe tbody tr th:only-of-type {\n",
       "        vertical-align: middle;\n",
       "    }\n",
       "\n",
       "    .dataframe tbody tr th {\n",
       "        vertical-align: top;\n",
       "    }\n",
       "\n",
       "    .dataframe thead th {\n",
       "        text-align: right;\n",
       "    }\n",
       "</style>\n",
       "<table border=\"1\" class=\"dataframe\">\n",
       "  <thead>\n",
       "    <tr style=\"text-align: right;\">\n",
       "      <th></th>\n",
       "      <th>name</th>\n",
       "      <th>address</th>\n",
       "      <th>gmap_id</th>\n",
       "      <th>latitude</th>\n",
       "      <th>longitude</th>\n",
       "      <th>category</th>\n",
       "      <th>avg_rating</th>\n",
       "      <th>num_of_reviews</th>\n",
       "      <th>MISC</th>\n",
       "      <th>url</th>\n",
       "    </tr>\n",
       "  </thead>\n",
       "  <tbody>\n",
       "    <tr>\n",
       "      <th>0</th>\n",
       "      <td>San Soo Dang</td>\n",
       "      <td>San Soo Dang, 761 S Vermont Ave, Los Angeles, ...</td>\n",
       "      <td>0x80c2c778e3b73d33:0xbdc58662a4a97d49</td>\n",
       "      <td>34.058092</td>\n",
       "      <td>-118.292130</td>\n",
       "      <td>[Korean Restaurant]</td>\n",
       "      <td>4.4</td>\n",
       "      <td>18</td>\n",
       "      <td>{'Service options': ['Takeout', 'Dine-in', 'De...</td>\n",
       "      <td>https://www.google.com/maps/place//data=!4m2!3...</td>\n",
       "    </tr>\n",
       "    <tr>\n",
       "      <th>1</th>\n",
       "      <td>Vons Chicken</td>\n",
       "      <td>Vons Chicken, 12740 La Mirada Blvd, La Mirada,...</td>\n",
       "      <td>0x80dd2b4c8555edb7:0xfc33d65c4bdbef42</td>\n",
       "      <td>33.916402</td>\n",
       "      <td>-118.010855</td>\n",
       "      <td>[Restaurant]</td>\n",
       "      <td>4.5</td>\n",
       "      <td>18</td>\n",
       "      <td>{'Service options': ['Outdoor seating', 'Curbs...</td>\n",
       "      <td>https://www.google.com/maps/place//data=!4m2!3...</td>\n",
       "    </tr>\n",
       "    <tr>\n",
       "      <th>2</th>\n",
       "      <td>Sweet Rewards Gluten Free Bakery, LLC</td>\n",
       "      <td>Sweet Rewards Gluten Free Bakery, LLC, 85 NE D...</td>\n",
       "      <td>0x87ec235c54d25b31:0x3b75fb5facc602f</td>\n",
       "      <td>41.616079</td>\n",
       "      <td>-93.865487</td>\n",
       "      <td>[Bakery, Health Food Restaurant]</td>\n",
       "      <td>4.7</td>\n",
       "      <td>21</td>\n",
       "      <td>{'Service options': ['Delivery']}</td>\n",
       "      <td>https://www.google.com/maps/place//data=!4m2!3...</td>\n",
       "    </tr>\n",
       "    <tr>\n",
       "      <th>3</th>\n",
       "      <td>Vivi Bubble Tea</td>\n",
       "      <td>Vivi Bubble Tea, 701 S 5th St, Philadelphia, P...</td>\n",
       "      <td>0x89c6c89efcaed69d:0xded973f6033e7dba</td>\n",
       "      <td>39.940293</td>\n",
       "      <td>-75.150923</td>\n",
       "      <td>[Restaurant]</td>\n",
       "      <td>4.0</td>\n",
       "      <td>8</td>\n",
       "      <td>{'Service options': ['Delivery'], 'Amenities':...</td>\n",
       "      <td>https://www.google.com/maps/place//data=!4m2!3...</td>\n",
       "    </tr>\n",
       "    <tr>\n",
       "      <th>4</th>\n",
       "      <td>Hale Pops</td>\n",
       "      <td>Hale Pops, 55-370 Kamehameha Hwy, Laie, HI 96762</td>\n",
       "      <td>0x7c00456eecad3111:0x8217f9600c51f33</td>\n",
       "      <td>21.637796</td>\n",
       "      <td>-157.920714</td>\n",
       "      <td>[Restaurant]</td>\n",
       "      <td>4.4</td>\n",
       "      <td>18</td>\n",
       "      <td>{'Service options': ['Outdoor seating', 'Takeo...</td>\n",
       "      <td>https://www.google.com/maps/place//data=!4m2!3...</td>\n",
       "    </tr>\n",
       "    <tr>\n",
       "      <th>...</th>\n",
       "      <td>...</td>\n",
       "      <td>...</td>\n",
       "      <td>...</td>\n",
       "      <td>...</td>\n",
       "      <td>...</td>\n",
       "      <td>...</td>\n",
       "      <td>...</td>\n",
       "      <td>...</td>\n",
       "      <td>...</td>\n",
       "      <td>...</td>\n",
       "    </tr>\n",
       "    <tr>\n",
       "      <th>209895</th>\n",
       "      <td>Simple Simon's Pizza - Vilonia, AR</td>\n",
       "      <td>Simple Simon's Pizza - Vilonia, AR, 14 S Churc...</td>\n",
       "      <td>0x87d28d5aa640a9c5:0x3c9cc5d3a99de80c</td>\n",
       "      <td>35.081871</td>\n",
       "      <td>-92.207739</td>\n",
       "      <td>[Pizza Takeout, Italian Restaurant, Pizza Rest...</td>\n",
       "      <td>4.5</td>\n",
       "      <td>38</td>\n",
       "      <td>{'Service options': ['Takeout'], 'Popular for'...</td>\n",
       "      <td>https://www.google.com/maps/place//data=!4m2!3...</td>\n",
       "    </tr>\n",
       "    <tr>\n",
       "      <th>209896</th>\n",
       "      <td>Subpreme Grill</td>\n",
       "      <td>Subpreme Grill, 15260 SW 280th St UNIT 111, Ho...</td>\n",
       "      <td>0x88d9dd6e78851851:0x849dcf273582261c</td>\n",
       "      <td>25.506121</td>\n",
       "      <td>-80.438215</td>\n",
       "      <td>[Sandwich Shop, Fast Food Restaurant, Takeout ...</td>\n",
       "      <td>4.3</td>\n",
       "      <td>393</td>\n",
       "      <td>{'Service options': ['Takeout'], 'Popular for'...</td>\n",
       "      <td>https://www.google.com/maps/place//data=!4m2!3...</td>\n",
       "    </tr>\n",
       "    <tr>\n",
       "      <th>209897</th>\n",
       "      <td>Dunkin'</td>\n",
       "      <td>Dunkin', 7000 Chester Ave, Philadelphia, PA 19142</td>\n",
       "      <td>0x89c6c4072624d2a9:0x4437b2d55e9a5811</td>\n",
       "      <td>39.923594</td>\n",
       "      <td>-75.245269</td>\n",
       "      <td>[Coffee Shop, Bagel Shop, Bakery, Breakfast Re...</td>\n",
       "      <td>4.0</td>\n",
       "      <td>348</td>\n",
       "      <td>{'Service options': ['Delivery', 'Drive-throug...</td>\n",
       "      <td>https://www.google.com/maps/place//data=!4m2!3...</td>\n",
       "    </tr>\n",
       "    <tr>\n",
       "      <th>209898</th>\n",
       "      <td>Munch</td>\n",
       "      <td>Munch, 5285 Meadows Rd #188, Lake Oswego, OR 9...</td>\n",
       "      <td>0x54957330545fc915:0xd14f2cb33733fb2b</td>\n",
       "      <td>45.418568</td>\n",
       "      <td>-122.730475</td>\n",
       "      <td>[Deli, Coffee Shop, Takeout Restaurant, Sandwi...</td>\n",
       "      <td>4.6</td>\n",
       "      <td>44</td>\n",
       "      <td>{'From the business': ['Identifies as women-le...</td>\n",
       "      <td>https://www.google.com/maps/place//data=!4m2!3...</td>\n",
       "    </tr>\n",
       "    <tr>\n",
       "      <th>209899</th>\n",
       "      <td>Steak 48</td>\n",
       "      <td>Steak 48, 260 S Broad St, Philadelphia, PA 19102</td>\n",
       "      <td>0x89c6c74f43a49b55:0x6be6995921c58b12</td>\n",
       "      <td>39.947254</td>\n",
       "      <td>-75.164953</td>\n",
       "      <td>[Steak House, Fine Dining Restaurant, Seafood ...</td>\n",
       "      <td>4.6</td>\n",
       "      <td>308</td>\n",
       "      <td>{'Service options': ['Takeout', 'Dine-in', 'De...</td>\n",
       "      <td>https://www.google.com/maps/place//data=!4m2!3...</td>\n",
       "    </tr>\n",
       "  </tbody>\n",
       "</table>\n",
       "<p>209900 rows × 10 columns</p>\n",
       "</div>"
      ],
      "text/plain": [
       "                                         name  \\\n",
       "0                                San Soo Dang   \n",
       "1                                Vons Chicken   \n",
       "2       Sweet Rewards Gluten Free Bakery, LLC   \n",
       "3                             Vivi Bubble Tea   \n",
       "4                                   Hale Pops   \n",
       "...                                       ...   \n",
       "209895     Simple Simon's Pizza - Vilonia, AR   \n",
       "209896                         Subpreme Grill   \n",
       "209897                                Dunkin'   \n",
       "209898                                  Munch   \n",
       "209899                               Steak 48   \n",
       "\n",
       "                                                  address  \\\n",
       "0       San Soo Dang, 761 S Vermont Ave, Los Angeles, ...   \n",
       "1       Vons Chicken, 12740 La Mirada Blvd, La Mirada,...   \n",
       "2       Sweet Rewards Gluten Free Bakery, LLC, 85 NE D...   \n",
       "3       Vivi Bubble Tea, 701 S 5th St, Philadelphia, P...   \n",
       "4        Hale Pops, 55-370 Kamehameha Hwy, Laie, HI 96762   \n",
       "...                                                   ...   \n",
       "209895  Simple Simon's Pizza - Vilonia, AR, 14 S Churc...   \n",
       "209896  Subpreme Grill, 15260 SW 280th St UNIT 111, Ho...   \n",
       "209897  Dunkin', 7000 Chester Ave, Philadelphia, PA 19142   \n",
       "209898  Munch, 5285 Meadows Rd #188, Lake Oswego, OR 9...   \n",
       "209899   Steak 48, 260 S Broad St, Philadelphia, PA 19102   \n",
       "\n",
       "                                      gmap_id   latitude   longitude  \\\n",
       "0       0x80c2c778e3b73d33:0xbdc58662a4a97d49  34.058092 -118.292130   \n",
       "1       0x80dd2b4c8555edb7:0xfc33d65c4bdbef42  33.916402 -118.010855   \n",
       "2        0x87ec235c54d25b31:0x3b75fb5facc602f  41.616079  -93.865487   \n",
       "3       0x89c6c89efcaed69d:0xded973f6033e7dba  39.940293  -75.150923   \n",
       "4        0x7c00456eecad3111:0x8217f9600c51f33  21.637796 -157.920714   \n",
       "...                                       ...        ...         ...   \n",
       "209895  0x87d28d5aa640a9c5:0x3c9cc5d3a99de80c  35.081871  -92.207739   \n",
       "209896  0x88d9dd6e78851851:0x849dcf273582261c  25.506121  -80.438215   \n",
       "209897  0x89c6c4072624d2a9:0x4437b2d55e9a5811  39.923594  -75.245269   \n",
       "209898  0x54957330545fc915:0xd14f2cb33733fb2b  45.418568 -122.730475   \n",
       "209899  0x89c6c74f43a49b55:0x6be6995921c58b12  39.947254  -75.164953   \n",
       "\n",
       "                                                 category  avg_rating  \\\n",
       "0                                     [Korean Restaurant]         4.4   \n",
       "1                                            [Restaurant]         4.5   \n",
       "2                        [Bakery, Health Food Restaurant]         4.7   \n",
       "3                                            [Restaurant]         4.0   \n",
       "4                                            [Restaurant]         4.4   \n",
       "...                                                   ...         ...   \n",
       "209895  [Pizza Takeout, Italian Restaurant, Pizza Rest...         4.5   \n",
       "209896  [Sandwich Shop, Fast Food Restaurant, Takeout ...         4.3   \n",
       "209897  [Coffee Shop, Bagel Shop, Bakery, Breakfast Re...         4.0   \n",
       "209898  [Deli, Coffee Shop, Takeout Restaurant, Sandwi...         4.6   \n",
       "209899  [Steak House, Fine Dining Restaurant, Seafood ...         4.6   \n",
       "\n",
       "        num_of_reviews                                               MISC  \\\n",
       "0                   18  {'Service options': ['Takeout', 'Dine-in', 'De...   \n",
       "1                   18  {'Service options': ['Outdoor seating', 'Curbs...   \n",
       "2                   21                  {'Service options': ['Delivery']}   \n",
       "3                    8  {'Service options': ['Delivery'], 'Amenities':...   \n",
       "4                   18  {'Service options': ['Outdoor seating', 'Takeo...   \n",
       "...                ...                                                ...   \n",
       "209895              38  {'Service options': ['Takeout'], 'Popular for'...   \n",
       "209896             393  {'Service options': ['Takeout'], 'Popular for'...   \n",
       "209897             348  {'Service options': ['Delivery', 'Drive-throug...   \n",
       "209898              44  {'From the business': ['Identifies as women-le...   \n",
       "209899             308  {'Service options': ['Takeout', 'Dine-in', 'De...   \n",
       "\n",
       "                                                      url  \n",
       "0       https://www.google.com/maps/place//data=!4m2!3...  \n",
       "1       https://www.google.com/maps/place//data=!4m2!3...  \n",
       "2       https://www.google.com/maps/place//data=!4m2!3...  \n",
       "3       https://www.google.com/maps/place//data=!4m2!3...  \n",
       "4       https://www.google.com/maps/place//data=!4m2!3...  \n",
       "...                                                   ...  \n",
       "209895  https://www.google.com/maps/place//data=!4m2!3...  \n",
       "209896  https://www.google.com/maps/place//data=!4m2!3...  \n",
       "209897  https://www.google.com/maps/place//data=!4m2!3...  \n",
       "209898  https://www.google.com/maps/place//data=!4m2!3...  \n",
       "209899  https://www.google.com/maps/place//data=!4m2!3...  \n",
       "\n",
       "[209900 rows x 10 columns]"
      ]
     },
     "execution_count": 9,
     "metadata": {},
     "output_type": "execute_result"
    }
   ],
   "source": [
    "# Filtrar el DataFrame para conservar solo las filas con subcadenas que contengan \"Restaurant\" en la categoría\n",
    "df_restaurant = df[df['category'].apply(lambda lista: any('Restaurant' in categoria for categoria in lista))].reset_index(drop=True)\n",
    "df_restaurant = df_restaurant.iloc[:, :-10]"
   ]
  },
  {
   "cell_type": "markdown",
   "metadata": {},
   "source": [
    "Una vez seleccionado el rubro, analizaremos en que estado se encuentran cada una."
   ]
  },
  {
   "cell_type": "code",
   "execution_count": 10,
   "metadata": {},
   "outputs": [
    {
     "data": {
      "text/html": [
       "<div>\n",
       "<style scoped>\n",
       "    .dataframe tbody tr th:only-of-type {\n",
       "        vertical-align: middle;\n",
       "    }\n",
       "\n",
       "    .dataframe tbody tr th {\n",
       "        vertical-align: top;\n",
       "    }\n",
       "\n",
       "    .dataframe thead th {\n",
       "        text-align: right;\n",
       "    }\n",
       "</style>\n",
       "<table border=\"1\" class=\"dataframe\">\n",
       "  <thead>\n",
       "    <tr style=\"text-align: right;\">\n",
       "      <th></th>\n",
       "      <th>name</th>\n",
       "      <th>address</th>\n",
       "      <th>gmap_id</th>\n",
       "      <th>latitude</th>\n",
       "      <th>longitude</th>\n",
       "      <th>category</th>\n",
       "      <th>avg_rating</th>\n",
       "      <th>num_of_reviews</th>\n",
       "      <th>MISC</th>\n",
       "      <th>url</th>\n",
       "      <th>state</th>\n",
       "      <th>code</th>\n",
       "    </tr>\n",
       "  </thead>\n",
       "  <tbody>\n",
       "    <tr>\n",
       "      <th>0</th>\n",
       "      <td>San Soo Dang</td>\n",
       "      <td>San Soo Dang, 761 S Vermont Ave, Los Angeles, ...</td>\n",
       "      <td>0x80c2c778e3b73d33:0xbdc58662a4a97d49</td>\n",
       "      <td>34.058092</td>\n",
       "      <td>-118.292130</td>\n",
       "      <td>[Korean Restaurant]</td>\n",
       "      <td>4.4</td>\n",
       "      <td>18</td>\n",
       "      <td>{'Service options': ['Takeout', 'Dine-in', 'De...</td>\n",
       "      <td>https://www.google.com/maps/place//data=!4m2!3...</td>\n",
       "      <td>California</td>\n",
       "      <td>CA</td>\n",
       "    </tr>\n",
       "    <tr>\n",
       "      <th>1</th>\n",
       "      <td>Vons Chicken</td>\n",
       "      <td>Vons Chicken, 12740 La Mirada Blvd, La Mirada,...</td>\n",
       "      <td>0x80dd2b4c8555edb7:0xfc33d65c4bdbef42</td>\n",
       "      <td>33.916402</td>\n",
       "      <td>-118.010855</td>\n",
       "      <td>[Restaurant]</td>\n",
       "      <td>4.5</td>\n",
       "      <td>18</td>\n",
       "      <td>{'Service options': ['Outdoor seating', 'Curbs...</td>\n",
       "      <td>https://www.google.com/maps/place//data=!4m2!3...</td>\n",
       "      <td>California</td>\n",
       "      <td>CA</td>\n",
       "    </tr>\n",
       "    <tr>\n",
       "      <th>2</th>\n",
       "      <td>Sweet Rewards Gluten Free Bakery, LLC</td>\n",
       "      <td>Sweet Rewards Gluten Free Bakery, LLC, 85 NE D...</td>\n",
       "      <td>0x87ec235c54d25b31:0x3b75fb5facc602f</td>\n",
       "      <td>41.616079</td>\n",
       "      <td>-93.865487</td>\n",
       "      <td>[Bakery, Health Food Restaurant]</td>\n",
       "      <td>4.7</td>\n",
       "      <td>21</td>\n",
       "      <td>{'Service options': ['Delivery']}</td>\n",
       "      <td>https://www.google.com/maps/place//data=!4m2!3...</td>\n",
       "      <td>Iowa</td>\n",
       "      <td>IA</td>\n",
       "    </tr>\n",
       "    <tr>\n",
       "      <th>3</th>\n",
       "      <td>Vivi Bubble Tea</td>\n",
       "      <td>Vivi Bubble Tea, 701 S 5th St, Philadelphia, P...</td>\n",
       "      <td>0x89c6c89efcaed69d:0xded973f6033e7dba</td>\n",
       "      <td>39.940293</td>\n",
       "      <td>-75.150923</td>\n",
       "      <td>[Restaurant]</td>\n",
       "      <td>4.0</td>\n",
       "      <td>8</td>\n",
       "      <td>{'Service options': ['Delivery'], 'Amenities':...</td>\n",
       "      <td>https://www.google.com/maps/place//data=!4m2!3...</td>\n",
       "      <td>Pennsylvania</td>\n",
       "      <td>PA</td>\n",
       "    </tr>\n",
       "    <tr>\n",
       "      <th>4</th>\n",
       "      <td>Hale Pops</td>\n",
       "      <td>Hale Pops, 55-370 Kamehameha Hwy, Laie, HI 96762</td>\n",
       "      <td>0x7c00456eecad3111:0x8217f9600c51f33</td>\n",
       "      <td>21.637796</td>\n",
       "      <td>-157.920714</td>\n",
       "      <td>[Restaurant]</td>\n",
       "      <td>4.4</td>\n",
       "      <td>18</td>\n",
       "      <td>{'Service options': ['Outdoor seating', 'Takeo...</td>\n",
       "      <td>https://www.google.com/maps/place//data=!4m2!3...</td>\n",
       "      <td>Hawaii</td>\n",
       "      <td>HI</td>\n",
       "    </tr>\n",
       "    <tr>\n",
       "      <th>...</th>\n",
       "      <td>...</td>\n",
       "      <td>...</td>\n",
       "      <td>...</td>\n",
       "      <td>...</td>\n",
       "      <td>...</td>\n",
       "      <td>...</td>\n",
       "      <td>...</td>\n",
       "      <td>...</td>\n",
       "      <td>...</td>\n",
       "      <td>...</td>\n",
       "      <td>...</td>\n",
       "      <td>...</td>\n",
       "    </tr>\n",
       "    <tr>\n",
       "      <th>209895</th>\n",
       "      <td>Simple Simon's Pizza - Vilonia, AR</td>\n",
       "      <td>Simple Simon's Pizza - Vilonia, AR, 14 S Churc...</td>\n",
       "      <td>0x87d28d5aa640a9c5:0x3c9cc5d3a99de80c</td>\n",
       "      <td>35.081871</td>\n",
       "      <td>-92.207739</td>\n",
       "      <td>[Pizza Takeout, Italian Restaurant, Pizza Rest...</td>\n",
       "      <td>4.5</td>\n",
       "      <td>38</td>\n",
       "      <td>{'Service options': ['Takeout'], 'Popular for'...</td>\n",
       "      <td>https://www.google.com/maps/place//data=!4m2!3...</td>\n",
       "      <td>Arkansas</td>\n",
       "      <td>AR</td>\n",
       "    </tr>\n",
       "    <tr>\n",
       "      <th>209896</th>\n",
       "      <td>Subpreme Grill</td>\n",
       "      <td>Subpreme Grill, 15260 SW 280th St UNIT 111, Ho...</td>\n",
       "      <td>0x88d9dd6e78851851:0x849dcf273582261c</td>\n",
       "      <td>25.506121</td>\n",
       "      <td>-80.438215</td>\n",
       "      <td>[Sandwich Shop, Fast Food Restaurant, Takeout ...</td>\n",
       "      <td>4.3</td>\n",
       "      <td>393</td>\n",
       "      <td>{'Service options': ['Takeout'], 'Popular for'...</td>\n",
       "      <td>https://www.google.com/maps/place//data=!4m2!3...</td>\n",
       "      <td>Florida</td>\n",
       "      <td>FL</td>\n",
       "    </tr>\n",
       "    <tr>\n",
       "      <th>209897</th>\n",
       "      <td>Dunkin'</td>\n",
       "      <td>Dunkin', 7000 Chester Ave, Philadelphia, PA 19142</td>\n",
       "      <td>0x89c6c4072624d2a9:0x4437b2d55e9a5811</td>\n",
       "      <td>39.923594</td>\n",
       "      <td>-75.245269</td>\n",
       "      <td>[Coffee Shop, Bagel Shop, Bakery, Breakfast Re...</td>\n",
       "      <td>4.0</td>\n",
       "      <td>348</td>\n",
       "      <td>{'Service options': ['Delivery', 'Drive-throug...</td>\n",
       "      <td>https://www.google.com/maps/place//data=!4m2!3...</td>\n",
       "      <td>Pennsylvania</td>\n",
       "      <td>PA</td>\n",
       "    </tr>\n",
       "    <tr>\n",
       "      <th>209898</th>\n",
       "      <td>Munch</td>\n",
       "      <td>Munch, 5285 Meadows Rd #188, Lake Oswego, OR 9...</td>\n",
       "      <td>0x54957330545fc915:0xd14f2cb33733fb2b</td>\n",
       "      <td>45.418568</td>\n",
       "      <td>-122.730475</td>\n",
       "      <td>[Deli, Coffee Shop, Takeout Restaurant, Sandwi...</td>\n",
       "      <td>4.6</td>\n",
       "      <td>44</td>\n",
       "      <td>{'From the business': ['Identifies as women-le...</td>\n",
       "      <td>https://www.google.com/maps/place//data=!4m2!3...</td>\n",
       "      <td>Oregon</td>\n",
       "      <td>OR</td>\n",
       "    </tr>\n",
       "    <tr>\n",
       "      <th>209899</th>\n",
       "      <td>Steak 48</td>\n",
       "      <td>Steak 48, 260 S Broad St, Philadelphia, PA 19102</td>\n",
       "      <td>0x89c6c74f43a49b55:0x6be6995921c58b12</td>\n",
       "      <td>39.947254</td>\n",
       "      <td>-75.164953</td>\n",
       "      <td>[Steak House, Fine Dining Restaurant, Seafood ...</td>\n",
       "      <td>4.6</td>\n",
       "      <td>308</td>\n",
       "      <td>{'Service options': ['Takeout', 'Dine-in', 'De...</td>\n",
       "      <td>https://www.google.com/maps/place//data=!4m2!3...</td>\n",
       "      <td>Pennsylvania</td>\n",
       "      <td>PA</td>\n",
       "    </tr>\n",
       "  </tbody>\n",
       "</table>\n",
       "<p>209900 rows × 12 columns</p>\n",
       "</div>"
      ],
      "text/plain": [
       "                                         name  \\\n",
       "0                                San Soo Dang   \n",
       "1                                Vons Chicken   \n",
       "2       Sweet Rewards Gluten Free Bakery, LLC   \n",
       "3                             Vivi Bubble Tea   \n",
       "4                                   Hale Pops   \n",
       "...                                       ...   \n",
       "209895     Simple Simon's Pizza - Vilonia, AR   \n",
       "209896                         Subpreme Grill   \n",
       "209897                                Dunkin'   \n",
       "209898                                  Munch   \n",
       "209899                               Steak 48   \n",
       "\n",
       "                                                  address  \\\n",
       "0       San Soo Dang, 761 S Vermont Ave, Los Angeles, ...   \n",
       "1       Vons Chicken, 12740 La Mirada Blvd, La Mirada,...   \n",
       "2       Sweet Rewards Gluten Free Bakery, LLC, 85 NE D...   \n",
       "3       Vivi Bubble Tea, 701 S 5th St, Philadelphia, P...   \n",
       "4        Hale Pops, 55-370 Kamehameha Hwy, Laie, HI 96762   \n",
       "...                                                   ...   \n",
       "209895  Simple Simon's Pizza - Vilonia, AR, 14 S Churc...   \n",
       "209896  Subpreme Grill, 15260 SW 280th St UNIT 111, Ho...   \n",
       "209897  Dunkin', 7000 Chester Ave, Philadelphia, PA 19142   \n",
       "209898  Munch, 5285 Meadows Rd #188, Lake Oswego, OR 9...   \n",
       "209899   Steak 48, 260 S Broad St, Philadelphia, PA 19102   \n",
       "\n",
       "                                      gmap_id   latitude   longitude  \\\n",
       "0       0x80c2c778e3b73d33:0xbdc58662a4a97d49  34.058092 -118.292130   \n",
       "1       0x80dd2b4c8555edb7:0xfc33d65c4bdbef42  33.916402 -118.010855   \n",
       "2        0x87ec235c54d25b31:0x3b75fb5facc602f  41.616079  -93.865487   \n",
       "3       0x89c6c89efcaed69d:0xded973f6033e7dba  39.940293  -75.150923   \n",
       "4        0x7c00456eecad3111:0x8217f9600c51f33  21.637796 -157.920714   \n",
       "...                                       ...        ...         ...   \n",
       "209895  0x87d28d5aa640a9c5:0x3c9cc5d3a99de80c  35.081871  -92.207739   \n",
       "209896  0x88d9dd6e78851851:0x849dcf273582261c  25.506121  -80.438215   \n",
       "209897  0x89c6c4072624d2a9:0x4437b2d55e9a5811  39.923594  -75.245269   \n",
       "209898  0x54957330545fc915:0xd14f2cb33733fb2b  45.418568 -122.730475   \n",
       "209899  0x89c6c74f43a49b55:0x6be6995921c58b12  39.947254  -75.164953   \n",
       "\n",
       "                                                 category  avg_rating  \\\n",
       "0                                     [Korean Restaurant]         4.4   \n",
       "1                                            [Restaurant]         4.5   \n",
       "2                        [Bakery, Health Food Restaurant]         4.7   \n",
       "3                                            [Restaurant]         4.0   \n",
       "4                                            [Restaurant]         4.4   \n",
       "...                                                   ...         ...   \n",
       "209895  [Pizza Takeout, Italian Restaurant, Pizza Rest...         4.5   \n",
       "209896  [Sandwich Shop, Fast Food Restaurant, Takeout ...         4.3   \n",
       "209897  [Coffee Shop, Bagel Shop, Bakery, Breakfast Re...         4.0   \n",
       "209898  [Deli, Coffee Shop, Takeout Restaurant, Sandwi...         4.6   \n",
       "209899  [Steak House, Fine Dining Restaurant, Seafood ...         4.6   \n",
       "\n",
       "        num_of_reviews                                               MISC  \\\n",
       "0                   18  {'Service options': ['Takeout', 'Dine-in', 'De...   \n",
       "1                   18  {'Service options': ['Outdoor seating', 'Curbs...   \n",
       "2                   21                  {'Service options': ['Delivery']}   \n",
       "3                    8  {'Service options': ['Delivery'], 'Amenities':...   \n",
       "4                   18  {'Service options': ['Outdoor seating', 'Takeo...   \n",
       "...                ...                                                ...   \n",
       "209895              38  {'Service options': ['Takeout'], 'Popular for'...   \n",
       "209896             393  {'Service options': ['Takeout'], 'Popular for'...   \n",
       "209897             348  {'Service options': ['Delivery', 'Drive-throug...   \n",
       "209898              44  {'From the business': ['Identifies as women-le...   \n",
       "209899             308  {'Service options': ['Takeout', 'Dine-in', 'De...   \n",
       "\n",
       "                                                      url         state code  \n",
       "0       https://www.google.com/maps/place//data=!4m2!3...    California   CA  \n",
       "1       https://www.google.com/maps/place//data=!4m2!3...    California   CA  \n",
       "2       https://www.google.com/maps/place//data=!4m2!3...          Iowa   IA  \n",
       "3       https://www.google.com/maps/place//data=!4m2!3...  Pennsylvania   PA  \n",
       "4       https://www.google.com/maps/place//data=!4m2!3...        Hawaii   HI  \n",
       "...                                                   ...           ...  ...  \n",
       "209895  https://www.google.com/maps/place//data=!4m2!3...      Arkansas   AR  \n",
       "209896  https://www.google.com/maps/place//data=!4m2!3...       Florida   FL  \n",
       "209897  https://www.google.com/maps/place//data=!4m2!3...  Pennsylvania   PA  \n",
       "209898  https://www.google.com/maps/place//data=!4m2!3...        Oregon   OR  \n",
       "209899  https://www.google.com/maps/place//data=!4m2!3...  Pennsylvania   PA  \n",
       "\n",
       "[209900 rows x 12 columns]"
      ]
     },
     "execution_count": 10,
     "metadata": {},
     "output_type": "execute_result"
    }
   ],
   "source": [
    "import us\n",
    "\n",
    "def obtener_estado_desde_cadena(cadena):\n",
    "    for estado in us.states.STATES:\n",
    "        if estado.abbr in cadena or estado.name.lower() in cadena.lower():\n",
    "            return estado\n",
    "    return None\n",
    "\n",
    "# Aplicar la función a cada valor de la columna 'address'\n",
    "df_restaurant['estado_objeto'] = df_restaurant['address'].apply(obtener_estado_desde_cadena)\n",
    "\n",
    "# Crear nuevas columnas 'state' y 'code' basadas en los resultados\n",
    "df_restaurant['state'] = df_restaurant['estado_objeto'].apply(lambda estado: estado.name if estado else None)\n",
    "df_restaurant['code'] = df_restaurant['estado_objeto'].apply(lambda estado: estado.abbr if estado else None)\n",
    "\n",
    "# Eliminar la columna temporal 'estado_objeto'\n",
    "df_restaurant = df_restaurant.drop('estado_objeto', axis=1)\n",
    "df_restaurant"
   ]
  },
  {
   "cell_type": "code",
   "execution_count": 11,
   "metadata": {},
   "outputs": [
    {
     "data": {
      "text/plain": [
       "state\n",
       "California        27060\n",
       "Texas             18932\n",
       "New York          17097\n",
       "Florida           13713\n",
       "Pennsylvania       8291\n",
       "Illinois           8130\n",
       "New Jersey         7543\n",
       "Georgia            6386\n",
       "Ohio               5578\n",
       "Virginia           5328\n",
       "North Carolina     5297\n",
       "Michigan           4869\n",
       "Massachusetts      4835\n",
       "Washington         4253\n",
       "Maryland           3803\n",
       "Tennessee          3754\n",
       "Colorado           3701\n",
       "Indiana            3581\n",
       "Arizona            3363\n",
       "Louisiana          3212\n",
       "Alabama            3109\n",
       "Wisconsin          3077\n",
       "Connecticut        3067\n",
       "Missouri           3026\n",
       "South Carolina     2873\n",
       "Oregon             2632\n",
       "Minnesota          2611\n",
       "Nebraska           2551\n",
       "Arkansas           2419\n",
       "Kentucky           2339\n",
       "Oklahoma           2312\n",
       "Iowa               2026\n",
       "Kansas             1919\n",
       "Nevada             1908\n",
       "Mississippi        1844\n",
       "Hawaii             1707\n",
       "Utah               1599\n",
       "Maine              1168\n",
       "West Virginia      1047\n",
       "Idaho              1007\n",
       "New Mexico          982\n",
       "New Hampshire       920\n",
       "Delaware            836\n",
       "Rhode Island        809\n",
       "Montana             768\n",
       "Alaska              713\n",
       "Vermont             531\n",
       "South Dakota        476\n",
       "North Dakota        468\n",
       "Wyoming             405\n",
       "Name: count, dtype: int64"
      ]
     },
     "execution_count": 11,
     "metadata": {},
     "output_type": "execute_result"
    }
   ],
   "source": [
    "# Obtener la cantidad de veces que se repite cada valor en la columna 'state'\n",
    "conteo_estados = df_restaurant['state'].value_counts()\n",
    "# Mostrar el resultado\n",
    "conteo_estados"
   ]
  },
  {
   "cell_type": "code",
   "execution_count": 12,
   "metadata": {},
   "outputs": [
    {
     "name": "stderr",
     "output_type": "stream",
     "text": [
      "C:\\Users\\magsn\\AppData\\Local\\Packages\\PythonSoftwareFoundation.Python.3.11_qbz5n2kfra8p0\\LocalCache\\local-packages\\Python311\\site-packages\\seaborn\\_oldcore.py:1498: FutureWarning: is_categorical_dtype is deprecated and will be removed in a future version. Use isinstance(dtype, CategoricalDtype) instead\n",
      "  if pd.api.types.is_categorical_dtype(vector):\n",
      "C:\\Users\\magsn\\AppData\\Local\\Packages\\PythonSoftwareFoundation.Python.3.11_qbz5n2kfra8p0\\LocalCache\\local-packages\\Python311\\site-packages\\seaborn\\_oldcore.py:1498: FutureWarning: is_categorical_dtype is deprecated and will be removed in a future version. Use isinstance(dtype, CategoricalDtype) instead\n",
      "  if pd.api.types.is_categorical_dtype(vector):\n"
     ]
    },
    {
     "data": {
      "image/png": "[encoded data removed]",
      "text/plain": [
       "<Figure size 1200x800 with 1 Axes>"
      ]
     },
     "metadata": {},
     "output_type": "display_data"
    }
   ],
   "source": [
    "# Graficar en orden descendente con barras más separadas y etiquetas espaciadas\n",
    "plt.figure(figsize=(12, 8))\n",
    "sns.countplot(y='state', data=df_restaurant, order=df_restaurant['state'].value_counts().index, palette='viridis', linewidth=1.5)\n",
    "plt.xlabel('Cantidad')\n",
    "plt.ylabel('Estado')\n",
    "plt.title('Cantidad de restaurantes por Estado')\n",
    "# Ajustar la separación entre las etiquetas del eje y\n",
    "plt.subplots_adjust(top=0.9, bottom=0.1)\n",
    "# Guardar la imagen como JPG\n",
    "plt.savefig('cantidad_restaurantes_por_estado.jpg')\n",
    "plt.show()"
   ]
  },
  {
   "cell_type": "code",
   "execution_count": 13,
   "metadata": {},
   "outputs": [
    {
     "data": {
      "text/plain": [
       "state\n",
       "California      27060\n",
       "Texas           18932\n",
       "New York        17097\n",
       "Florida         13713\n",
       "Pennsylvania     8291\n",
       "Illinois         8130\n",
       "New Jersey       7543\n",
       "Georgia          6386\n",
       "Ohio             5578\n",
       "Virginia         5328\n",
       "Name: count, dtype: int64"
      ]
     },
     "execution_count": 13,
     "metadata": {},
     "output_type": "execute_result"
    }
   ],
   "source": [
    "# Obtener la cantidad de veces que se repite cada valor en la columna 'state'\n",
    "conteo_estados = df_restaurant['state'].value_counts()\n",
    "# Mostrar el resultado\n",
    "conteo_estados.head(10)"
   ]
  },
  {
   "cell_type": "markdown",
   "metadata": {},
   "source": [
    "Los estados con mayor cantidad de Restaurants son: California, Texas, New York, Florida, Pennsylvania, Illinois, New Jersey, Georgia, Ohio y Virginia"
   ]
  },
  {
   "cell_type": "markdown",
   "metadata": {},
   "source": [
    "Por razones de PIB,  poblacion e ingreso percapita de los Estados Unidos, nos quedaremos para realizar su análisis con los estados de: California, Florida, Illinois, Pensylvania, New Jersey, Indiana, Tennessee y Arizona."
   ]
  },
  {
   "cell_type": "code",
   "execution_count": 20,
   "metadata": {},
   "outputs": [
    {
     "data": {
      "text/html": [
       "<div>\n",
       "<style scoped>\n",
       "    .dataframe tbody tr th:only-of-type {\n",
       "        vertical-align: middle;\n",
       "    }\n",
       "\n",
       "    .dataframe tbody tr th {\n",
       "        vertical-align: top;\n",
       "    }\n",
       "\n",
       "    .dataframe thead th {\n",
       "        text-align: right;\n",
       "    }\n",
       "</style>\n",
       "<table border=\"1\" class=\"dataframe\">\n",
       "  <thead>\n",
       "    <tr style=\"text-align: right;\">\n",
       "      <th></th>\n",
       "      <th>name</th>\n",
       "      <th>address</th>\n",
       "      <th>gmap_id</th>\n",
       "      <th>latitude</th>\n",
       "      <th>longitude</th>\n",
       "      <th>category</th>\n",
       "      <th>avg_rating</th>\n",
       "      <th>num_of_reviews</th>\n",
       "      <th>MISC</th>\n",
       "      <th>url</th>\n",
       "      <th>state</th>\n",
       "      <th>code</th>\n",
       "    </tr>\n",
       "  </thead>\n",
       "  <tbody>\n",
       "    <tr>\n",
       "      <th>0</th>\n",
       "      <td>San Soo Dang</td>\n",
       "      <td>San Soo Dang, 761 S Vermont Ave, Los Angeles, ...</td>\n",
       "      <td>0x80c2c778e3b73d33:0xbdc58662a4a97d49</td>\n",
       "      <td>34.058092</td>\n",
       "      <td>-118.292130</td>\n",
       "      <td>[Korean Restaurant]</td>\n",
       "      <td>4.4</td>\n",
       "      <td>18</td>\n",
       "      <td>{'Service options': ['Takeout', 'Dine-in', 'De...</td>\n",
       "      <td>https://www.google.com/maps/place//data=!4m2!3...</td>\n",
       "      <td>California</td>\n",
       "      <td>CA</td>\n",
       "    </tr>\n",
       "    <tr>\n",
       "      <th>1</th>\n",
       "      <td>Vons Chicken</td>\n",
       "      <td>Vons Chicken, 12740 La Mirada Blvd, La Mirada,...</td>\n",
       "      <td>0x80dd2b4c8555edb7:0xfc33d65c4bdbef42</td>\n",
       "      <td>33.916402</td>\n",
       "      <td>-118.010855</td>\n",
       "      <td>[Restaurant]</td>\n",
       "      <td>4.5</td>\n",
       "      <td>18</td>\n",
       "      <td>{'Service options': ['Outdoor seating', 'Curbs...</td>\n",
       "      <td>https://www.google.com/maps/place//data=!4m2!3...</td>\n",
       "      <td>California</td>\n",
       "      <td>CA</td>\n",
       "    </tr>\n",
       "    <tr>\n",
       "      <th>2</th>\n",
       "      <td>Cape Seafood Shack</td>\n",
       "      <td>Cape Seafood Shack, 603 Del Prado Blvd S, Cape...</td>\n",
       "      <td>0x88db4147b1d9e6f3:0x943dbd10a92ba1b1</td>\n",
       "      <td>26.641377</td>\n",
       "      <td>-81.940545</td>\n",
       "      <td>[Restaurant]</td>\n",
       "      <td>5.0</td>\n",
       "      <td>1</td>\n",
       "      <td>{'Service options': ['Dine-in', 'Delivery'], '...</td>\n",
       "      <td>https://www.google.com/maps/place//data=!4m2!3...</td>\n",
       "      <td>Florida</td>\n",
       "      <td>FL</td>\n",
       "    </tr>\n",
       "    <tr>\n",
       "      <th>3</th>\n",
       "      <td>Fresh Point Country Buffet</td>\n",
       "      <td>Fresh Point Country Buffet, 10525 US-19, Pinel...</td>\n",
       "      <td>0x88c2e4e34f1ed783:0x76c5da381c499d79</td>\n",
       "      <td>27.867489</td>\n",
       "      <td>-82.702971</td>\n",
       "      <td>[Buffet Restaurant]</td>\n",
       "      <td>5.0</td>\n",
       "      <td>2</td>\n",
       "      <td>{'Service options': ['Delivery'], 'Accessibili...</td>\n",
       "      <td>https://www.google.com/maps/place//data=!4m2!3...</td>\n",
       "      <td>Florida</td>\n",
       "      <td>FL</td>\n",
       "    </tr>\n",
       "    <tr>\n",
       "      <th>4</th>\n",
       "      <td>TACOS LA CABANA</td>\n",
       "      <td>TACOS LA CABANA, 2015 22nd Ave, Oakland, CA 94606</td>\n",
       "      <td>0x808f879f35b5088b:0xe3541cec7a95bd88</td>\n",
       "      <td>37.789076</td>\n",
       "      <td>-122.233884</td>\n",
       "      <td>[Taco Restaurant]</td>\n",
       "      <td>5.0</td>\n",
       "      <td>2</td>\n",
       "      <td>{'Service options': ['Takeout', 'Dine-in'], 'P...</td>\n",
       "      <td>https://www.google.com/maps/place//data=!4m2!3...</td>\n",
       "      <td>California</td>\n",
       "      <td>CA</td>\n",
       "    </tr>\n",
       "    <tr>\n",
       "      <th>...</th>\n",
       "      <td>...</td>\n",
       "      <td>...</td>\n",
       "      <td>...</td>\n",
       "      <td>...</td>\n",
       "      <td>...</td>\n",
       "      <td>...</td>\n",
       "      <td>...</td>\n",
       "      <td>...</td>\n",
       "      <td>...</td>\n",
       "      <td>...</td>\n",
       "      <td>...</td>\n",
       "      <td>...</td>\n",
       "    </tr>\n",
       "    <tr>\n",
       "      <th>67139</th>\n",
       "      <td>Mac's BBQ</td>\n",
       "      <td>Mac's BBQ, 630 Hollywood Dr, Jackson, TN 38301</td>\n",
       "      <td>0x887ea119d9e8fd09:0x17df17c499c93f0d</td>\n",
       "      <td>35.622428</td>\n",
       "      <td>-88.835994</td>\n",
       "      <td>[Barbecue Restaurant]</td>\n",
       "      <td>4.5</td>\n",
       "      <td>58</td>\n",
       "      <td>{'Service options': ['Takeout', 'Delivery'], '...</td>\n",
       "      <td>https://www.google.com/maps/place//data=!4m2!3...</td>\n",
       "      <td>Tennessee</td>\n",
       "      <td>TN</td>\n",
       "    </tr>\n",
       "    <tr>\n",
       "      <th>67140</th>\n",
       "      <td>Jackson Pizza</td>\n",
       "      <td>Jackson Pizza, 81 Cassville Rd, Jackson Townsh...</td>\n",
       "      <td>0x89c17b3b65b4680d:0x40a43d960a97a0</td>\n",
       "      <td>40.109785</td>\n",
       "      <td>-74.387818</td>\n",
       "      <td>[Pizza Restaurant, Italian Restaurant, Pizza D...</td>\n",
       "      <td>4.5</td>\n",
       "      <td>28</td>\n",
       "      <td>{'Service options': ['Curbside pickup', 'Deliv...</td>\n",
       "      <td>https://www.google.com/maps/place//data=!4m2!3...</td>\n",
       "      <td>New Jersey</td>\n",
       "      <td>NJ</td>\n",
       "    </tr>\n",
       "    <tr>\n",
       "      <th>67141</th>\n",
       "      <td>Royal Bavarian Schnitzel Haus</td>\n",
       "      <td>Royal Bavarian Schnitzel Haus, 1085 NE 79th St...</td>\n",
       "      <td>0x88d9b3cd3f274101:0x64335c60e4e3065e</td>\n",
       "      <td>25.848295</td>\n",
       "      <td>-80.174799</td>\n",
       "      <td>[German Restaurant, Bar, Restaurant]</td>\n",
       "      <td>4.3</td>\n",
       "      <td>144</td>\n",
       "      <td>{'Service options': ['Delivery'], 'Amenities':...</td>\n",
       "      <td>https://www.google.com/maps/place//data=!4m2!3...</td>\n",
       "      <td>Florida</td>\n",
       "      <td>FL</td>\n",
       "    </tr>\n",
       "    <tr>\n",
       "      <th>67142</th>\n",
       "      <td>Panheads Pizzeria</td>\n",
       "      <td>Panheads Pizzeria, 4085 S Ridgewood Ave, Port ...</td>\n",
       "      <td>0x88e6d78a11694343:0xaed512a21b391dcd</td>\n",
       "      <td>29.142263</td>\n",
       "      <td>-80.986379</td>\n",
       "      <td>[Pizza Restaurant]</td>\n",
       "      <td>4.4</td>\n",
       "      <td>98</td>\n",
       "      <td>{'Service options': ['Delivery'], 'Amenities':...</td>\n",
       "      <td>https://www.google.com/maps/place//data=!4m2!3...</td>\n",
       "      <td>Florida</td>\n",
       "      <td>FL</td>\n",
       "    </tr>\n",
       "    <tr>\n",
       "      <th>67143</th>\n",
       "      <td>Subpreme Grill</td>\n",
       "      <td>Subpreme Grill, 15260 SW 280th St UNIT 111, Ho...</td>\n",
       "      <td>0x88d9dd6e78851851:0x849dcf273582261c</td>\n",
       "      <td>25.506121</td>\n",
       "      <td>-80.438215</td>\n",
       "      <td>[Sandwich Shop, Fast Food Restaurant, Takeout ...</td>\n",
       "      <td>4.3</td>\n",
       "      <td>393</td>\n",
       "      <td>{'Service options': ['Takeout'], 'Popular for'...</td>\n",
       "      <td>https://www.google.com/maps/place//data=!4m2!3...</td>\n",
       "      <td>Florida</td>\n",
       "      <td>FL</td>\n",
       "    </tr>\n",
       "  </tbody>\n",
       "</table>\n",
       "<p>67144 rows × 12 columns</p>\n",
       "</div>"
      ],
      "text/plain": [
       "                                name  \\\n",
       "0                       San Soo Dang   \n",
       "1                       Vons Chicken   \n",
       "2                 Cape Seafood Shack   \n",
       "3         Fresh Point Country Buffet   \n",
       "4                    TACOS LA CABANA   \n",
       "...                              ...   \n",
       "67139                      Mac's BBQ   \n",
       "67140                  Jackson Pizza   \n",
       "67141  Royal Bavarian Schnitzel Haus   \n",
       "67142              Panheads Pizzeria   \n",
       "67143                 Subpreme Grill   \n",
       "\n",
       "                                                 address  \\\n",
       "0      San Soo Dang, 761 S Vermont Ave, Los Angeles, ...   \n",
       "1      Vons Chicken, 12740 La Mirada Blvd, La Mirada,...   \n",
       "2      Cape Seafood Shack, 603 Del Prado Blvd S, Cape...   \n",
       "3      Fresh Point Country Buffet, 10525 US-19, Pinel...   \n",
       "4      TACOS LA CABANA, 2015 22nd Ave, Oakland, CA 94606   \n",
       "...                                                  ...   \n",
       "67139     Mac's BBQ, 630 Hollywood Dr, Jackson, TN 38301   \n",
       "67140  Jackson Pizza, 81 Cassville Rd, Jackson Townsh...   \n",
       "67141  Royal Bavarian Schnitzel Haus, 1085 NE 79th St...   \n",
       "67142  Panheads Pizzeria, 4085 S Ridgewood Ave, Port ...   \n",
       "67143  Subpreme Grill, 15260 SW 280th St UNIT 111, Ho...   \n",
       "\n",
       "                                     gmap_id   latitude   longitude  \\\n",
       "0      0x80c2c778e3b73d33:0xbdc58662a4a97d49  34.058092 -118.292130   \n",
       "1      0x80dd2b4c8555edb7:0xfc33d65c4bdbef42  33.916402 -118.010855   \n",
       "2      0x88db4147b1d9e6f3:0x943dbd10a92ba1b1  26.641377  -81.940545   \n",
       "3      0x88c2e4e34f1ed783:0x76c5da381c499d79  27.867489  -82.702971   \n",
       "4      0x808f879f35b5088b:0xe3541cec7a95bd88  37.789076 -122.233884   \n",
       "...                                      ...        ...         ...   \n",
       "67139  0x887ea119d9e8fd09:0x17df17c499c93f0d  35.622428  -88.835994   \n",
       "67140    0x89c17b3b65b4680d:0x40a43d960a97a0  40.109785  -74.387818   \n",
       "67141  0x88d9b3cd3f274101:0x64335c60e4e3065e  25.848295  -80.174799   \n",
       "67142  0x88e6d78a11694343:0xaed512a21b391dcd  29.142263  -80.986379   \n",
       "67143  0x88d9dd6e78851851:0x849dcf273582261c  25.506121  -80.438215   \n",
       "\n",
       "                                                category  avg_rating  \\\n",
       "0                                    [Korean Restaurant]         4.4   \n",
       "1                                           [Restaurant]         4.5   \n",
       "2                                           [Restaurant]         5.0   \n",
       "3                                    [Buffet Restaurant]         5.0   \n",
       "4                                      [Taco Restaurant]         5.0   \n",
       "...                                                  ...         ...   \n",
       "67139                              [Barbecue Restaurant]         4.5   \n",
       "67140  [Pizza Restaurant, Italian Restaurant, Pizza D...         4.5   \n",
       "67141               [German Restaurant, Bar, Restaurant]         4.3   \n",
       "67142                                 [Pizza Restaurant]         4.4   \n",
       "67143  [Sandwich Shop, Fast Food Restaurant, Takeout ...         4.3   \n",
       "\n",
       "       num_of_reviews                                               MISC  \\\n",
       "0                  18  {'Service options': ['Takeout', 'Dine-in', 'De...   \n",
       "1                  18  {'Service options': ['Outdoor seating', 'Curbs...   \n",
       "2                   1  {'Service options': ['Dine-in', 'Delivery'], '...   \n",
       "3                   2  {'Service options': ['Delivery'], 'Accessibili...   \n",
       "4                   2  {'Service options': ['Takeout', 'Dine-in'], 'P...   \n",
       "...               ...                                                ...   \n",
       "67139              58  {'Service options': ['Takeout', 'Delivery'], '...   \n",
       "67140              28  {'Service options': ['Curbside pickup', 'Deliv...   \n",
       "67141             144  {'Service options': ['Delivery'], 'Amenities':...   \n",
       "67142              98  {'Service options': ['Delivery'], 'Amenities':...   \n",
       "67143             393  {'Service options': ['Takeout'], 'Popular for'...   \n",
       "\n",
       "                                                     url       state code  \n",
       "0      https://www.google.com/maps/place//data=!4m2!3...  California   CA  \n",
       "1      https://www.google.com/maps/place//data=!4m2!3...  California   CA  \n",
       "2      https://www.google.com/maps/place//data=!4m2!3...     Florida   FL  \n",
       "3      https://www.google.com/maps/place//data=!4m2!3...     Florida   FL  \n",
       "4      https://www.google.com/maps/place//data=!4m2!3...  California   CA  \n",
       "...                                                  ...         ...  ...  \n",
       "67139  https://www.google.com/maps/place//data=!4m2!3...   Tennessee   TN  \n",
       "67140  https://www.google.com/maps/place//data=!4m2!3...  New Jersey   NJ  \n",
       "67141  https://www.google.com/maps/place//data=!4m2!3...     Florida   FL  \n",
       "67142  https://www.google.com/maps/place//data=!4m2!3...     Florida   FL  \n",
       "67143  https://www.google.com/maps/place//data=!4m2!3...     Florida   FL  \n",
       "\n",
       "[67144 rows x 12 columns]"
      ]
     },
     "execution_count": 20,
     "metadata": {},
     "output_type": "execute_result"
    }
   ],
   "source": [
    "# Se crea el dataframe con los estados elejidos\n",
    "estados = ['California', 'Florida', 'Illinois','Pensylvania', 'New Jersey', 'Indiana', 'Tennessee','Arizona']\n",
    "df_restaurant = df_restaurant[df_restaurant['state'].isin(estados)].reset_index(drop=True)\n",
    "df_restaurant"
   ]
  },
  {
   "cell_type": "markdown",
   "metadata": {},
   "source": [
    "### To Parquet"
   ]
  },
  {
   "cell_type": "code",
   "execution_count": null,
   "metadata": {},
   "outputs": [],
   "source": [
    "# Se guarda en formato parquet\n",
    "df_restaurant.to_parquet('restaurant.parquet', index=False, engine='pyarrow')"
   ]
  },
  {
   "cell_type": "markdown",
   "metadata": {},
   "source": [
    "## Dataframe de Reviews"
   ]
  },
  {
   "cell_type": "markdown",
   "metadata": {},
   "source": [
    "Se cargará un json para ver su formato y realizar un primer análisis"
   ]
  },
  {
   "cell_type": "code",
   "execution_count": null,
   "metadata": {},
   "outputs": [],
   "source": [
    "data = []\n",
    "archivos=['./Maps/Estados/review-Arizona/1.json']\n",
    "for archivo in archivos:\n",
    "    with open(archivo, 'r') as file:\n",
    "        for line in file:\n",
    "                data.append(json.loads(line))\n",
    "df = pd.DataFrame(data)\n",
    "df"
   ]
  },
  {
   "cell_type": "code",
   "execution_count": null,
   "metadata": {},
   "outputs": [],
   "source": [
    "# Eliminamos la columna \"pics\" y estandarizamos la columna \"name\"\n",
    "df['name'] = df['name'].str.title()\n",
    "df=df.drop(['pics'],axis=1)"
   ]
  },
  {
   "cell_type": "code",
   "execution_count": null,
   "metadata": {},
   "outputs": [],
   "source": [
    "df.info()"
   ]
  },
  {
   "cell_type": "code",
   "execution_count": null,
   "metadata": {},
   "outputs": [],
   "source": [
    "# Añadimos más bibliotecas\n",
    "from datetime import datetime\n",
    "# Se crea la función para convertir marca de tiempo a fecha\n",
    "def convertir_a_fecha(timestamp_ms):\n",
    "    timestamp_seconds = timestamp_ms / 1000\n",
    "    fecha = datetime.utcfromtimestamp(timestamp_seconds).date()\n",
    "    return fecha"
   ]
  },
  {
   "cell_type": "markdown",
   "metadata": {},
   "source": [
    "Ahora cargaremos todos los dataframes"
   ]
  },
  {
   "cell_type": "code",
   "execution_count": null,
   "metadata": {},
   "outputs": [],
   "source": [
    "data = []\n",
    "archivos = ['./Maps/Estados/review-Arizona/{}.json'.format(i) for i in range(1, 15)]\n",
    "for archivo in archivos:\n",
    "    with open(archivo, 'r') as file:\n",
    "        for line in file:\n",
    "            data.append(json.loads(line))\n",
    "df_arizona = pd.DataFrame(data)\n",
    "# Modificaciones adicionales\n",
    "df_arizona['name'] = df_arizona['name'].str.title()\n",
    "df_arizona = df_arizona.drop(['pics'], axis=1)\n",
    "df_arizona['time'] = df_arizona['time'].apply(convertir_a_fecha)\n",
    "# Guardar en formato Parquet\n",
    "df_arizona.to_parquet('reviews_arizona.parquet', index=False, engine='pyarrow')"
   ]
  },
  {
   "cell_type": "code",
   "execution_count": null,
   "metadata": {},
   "outputs": [],
   "source": [
    "data = []\n",
    "archivos = ['./Maps/Estados/review-California/{}.json'.format(i) for i in range(1, 19)]\n",
    "for archivo in archivos:\n",
    "    with open(archivo, 'r') as file:\n",
    "        for line in file:\n",
    "            data.append(json.loads(line))\n",
    "df_california = pd.DataFrame(data)\n",
    "df_california['name'] = df_california['name'].str.title()\n",
    "df_california=df_california.drop(['pics'],axis=1)\n",
    "df_california['time'] = df_california['time'].apply(convertir_a_fecha)\n",
    "df_california.to_parquet('reviews_california.parquet', index=False, engine='pyarrow')"
   ]
  },
  {
   "cell_type": "code",
   "execution_count": null,
   "metadata": {},
   "outputs": [],
   "source": [
    "data = []\n",
    "archivos = ['./Maps/Estados/review-Florida/{}.json'.format(i) for i in range(1, 20)]\n",
    "for archivo in archivos:\n",
    "    with open(archivo, 'r') as file:\n",
    "        for line in file:\n",
    "            data.append(json.loads(line))\n",
    "df_florida = pd.DataFrame(data)\n",
    "df_florida['name'] = df_florida['name'].str.title()\n",
    "df_florida=df_florida.drop(['pics'],axis=1)\n",
    "df_florida['time'] = df_florida['time'].apply(convertir_a_fecha)\n",
    "df_florida.to_parquet('reviews_florida.parquet', index=False, engine='pyarrow')"
   ]
  },
  {
   "cell_type": "code",
   "execution_count": null,
   "metadata": {},
   "outputs": [],
   "source": [
    "data = []\n",
    "archivos = ['./Maps/Estados/review-Illinois/{}.json'.format(i) for i in range(1, 15)]\n",
    "for archivo in archivos:\n",
    "    with open(archivo, 'r') as file:\n",
    "        for line in file:\n",
    "            data.append(json.loads(line))\n",
    "df_illinois = pd.DataFrame(data)\n",
    "df_illinois['name'] = df_illinois['name'].str.title()\n",
    "df_illinois=df_illinois.drop(['pics'],axis=1)\n",
    "df_illinois['time'] = df_illinois['time'].apply(convertir_a_fecha)\n",
    "df_illinois.to_parquet('reviews_illinois.parquet', index=False, engine='pyarrow')"
   ]
  },
  {
   "cell_type": "code",
   "execution_count": null,
   "metadata": {},
   "outputs": [],
   "source": [
    "data = []\n",
    "archivos = ['./Maps/Estados/review-Indiana/{}.json'.format(i) for i in range(1, 16)]\n",
    "for archivo in archivos:\n",
    "    with open(archivo, 'r') as file:\n",
    "        for line in file:\n",
    "            data.append(json.loads(line))\n",
    "df_indiana = pd.DataFrame(data)\n",
    "df_indiana['name'] = df_indiana['name'].str.title()\n",
    "df_indiana=df_indiana.drop(['pics'],axis=1)\n",
    "df_indiana['time'] = df_indiana['time'].apply(convertir_a_fecha)\n",
    "df_indiana.to_parquet('reviews_indiana.parquet', index=False, engine='pyarrow')"
   ]
  },
  {
   "cell_type": "code",
   "execution_count": null,
   "metadata": {},
   "outputs": [],
   "source": [
    "data = []\n",
    "archivos = ['./Maps/Estados/review-New_Jersey/{}.json'.format(i) for i in range(1, 14)]\n",
    "for archivo in archivos:\n",
    "    with open(archivo, 'r') as file:\n",
    "        for line in file:\n",
    "            data.append(json.loads(line))\n",
    "df_new_jersey = pd.DataFrame(data)\n",
    "df_new_jersey['name'] = df_new_jersey['name'].str.title()\n",
    "df_new_jersey=df_new_jersey.drop(['pics'],axis=1)\n",
    "df_new_jersey['time'] = df_new_jersey['time'].apply(convertir_a_fecha)\n",
    "df_new_jersey.to_parquet('reviews_new_jersey.parquet', index=False, engine='pyarrow')"
   ]
  },
  {
   "cell_type": "code",
   "execution_count": null,
   "metadata": {},
   "outputs": [],
   "source": [
    "data = []\n",
    "archivos = ['./Maps/Estados/review-Pennsylvania/{}.json'.format(i) for i in range(1, 17)]\n",
    "for archivo in archivos:\n",
    "    with open(archivo, 'r') as file:\n",
    "        for line in file:\n",
    "            data.append(json.loads(line))\n",
    "df_pennsylvania = pd.DataFrame(data)\n",
    "df_pennsylvania['name'] = df_pennsylvania['name'].str.title()\n",
    "df_pennsylvania=df_pennsylvania.drop(['pics'],axis=1)\n",
    "df_pennsylvania['time'] = df_pennsylvania['time'].apply(convertir_a_fecha)\n",
    "df_pennsylvania.to_parquet('reviews_pennsylvania.parquet', index=False, engine='pyarrow')"
   ]
  },
  {
   "cell_type": "code",
   "execution_count": null,
   "metadata": {},
   "outputs": [],
   "source": [
    "data = []\n",
    "archivos = ['./Maps/Estados/review-Tennessee/{}.json'.format(i) for i in range(1, 13)]\n",
    "for archivo in archivos:\n",
    "    with open(archivo, 'r') as file:\n",
    "        for line in file:\n",
    "            data.append(json.loads(line))\n",
    "df_tennessee = pd.DataFrame(data)\n",
    "df_tennessee['name'] = df_tennessee['name'].str.title()\n",
    "df_tennessee=df_tennessee.drop(['pics'],axis=1)\n",
    "df_tennessee['time'] = df_tennessee['time'].apply(convertir_a_fecha)\n",
    "df_tennessee.to_parquet('reviews_tennessee.parquet', index=False, engine='pyarrow')"
   ]
  },
  {
   "cell_type": "markdown",
   "metadata": {},
   "source": [
    "Se crea un dataframe final uniendo todos los dataframes anteriores"
   ]
  },
  {
   "cell_type": "code",
   "execution_count": null,
   "metadata": {},
   "outputs": [],
   "source": [
    "df_reviews = pd.concat([df_arizona,df_california])\n",
    "df_reviews = pd.concat([df_reviews,df_florida])\n",
    "df_reviews = pd.concat([df_reviews,df_illinois])\n",
    "df_reviews = pd.concat([df_reviews,df_indiana])\n",
    "df_reviews = pd.concat([df_reviews,df_new_jersey])\n",
    "df_reviews = pd.concat([df_reviews,df_pennsylvania])\n",
    "df_reviews = pd.concat([df_reviews,df_tennessee])"
   ]
  },
  {
   "cell_type": "markdown",
   "metadata": {},
   "source": [
    "Filtramos para que todos los reviews del dataframe df_reviews estén referenciados a los restaurantes del df_restaurent. Esto lo hacemos mediante el gmap_id"
   ]
  },
  {
   "cell_type": "code",
   "execution_count": null,
   "metadata": {},
   "outputs": [],
   "source": [
    "# Crear una lista con todos los valores únicos de la columna \"gmap_id\" en df_restaurant\n",
    "gmap_ids_restaurant = df_restaurant['gmap_id'].unique().tolist()\n",
    "\n",
    "# Verificar si cada gmap_id en la lista está presente en la columna \"gmap_id\" de df_reviews\n",
    "present_in_reviews = df_reviews['gmap_id'].isin(gmap_ids_restaurant)\n",
    "\n",
    "# Crear un nuevo DataFrame con las filas de df_reviews que tienen gmap_id presente en df_restaurant\n",
    "df_reviews_filtered = df_reviews[present_in_reviews]\n",
    "\n",
    "# Si deseas una lista de los gmap_id que están presentes en ambos DataFrames, puedes hacer lo siguiente\n",
    "gmap_ids_present = df_reviews_filtered['gmap_id'].unique().tolist()"
   ]
  },
  {
   "cell_type": "markdown",
   "metadata": {},
   "source": [
    "Se crean los dataframes finales con todos los filtros necesarios:\n",
    "* todos los negocios seleccionados son del género ocio, y para ser más precisos son de la categoría \"Restaurant\".\n",
    "* todos pertenecen a los estados de: Arizona, California, Florida, Illinois, Indiana, New Jersey, Pennsylvania y Tennessee.\n",
    "* todas las reviews perteneces a los restaurantes de dichos estados."
   ]
  },
  {
   "cell_type": "code",
   "execution_count": null,
   "metadata": {},
   "outputs": [],
   "source": [
    "# Dataframes finales\n",
    "df_reviews=df_reviews[df_reviews['gmap_id'].isin(gmap_ids_present)].reset_index(drop=True)\n",
    "df_reviews.to_parquet('reviews.parquet', index=False, engine='pyarrow')\n",
    "df_restaurant=df_restaurant[df_restaurant['gmap_id'].isin(gmap_ids_present)].reset_index(drop=True)\n",
    "df_restaurant.to_parquet('restaurants.parquet', index=False, engine='pyarrow')"
   ]
  }
 ],
 "metadata": {
  "kernelspec": {
   "display_name": "Python 3",
   "language": "python",
   "name": "python3"
  },
  "language_info": {
   "codemirror_mode": {
    "name": "ipython",
    "version": 3
   },
   "file_extension": ".py",
   "mimetype": "text/x-python",
   "name": "python",
   "nbconvert_exporter": "python",
   "pygments_lexer": "ipython3",
   "version": "3.11.6"
  }
 },
 "nbformat": 4,
 "nbformat_minor": 2
}
